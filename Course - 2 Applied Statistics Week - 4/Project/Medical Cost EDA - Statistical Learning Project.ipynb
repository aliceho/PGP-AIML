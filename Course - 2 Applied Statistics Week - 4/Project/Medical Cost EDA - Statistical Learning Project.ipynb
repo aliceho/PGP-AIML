{
 "cells": [
  {
   "cell_type": "markdown",
   "metadata": {},
   "source": [
    "# Statistical Learning Project\n",
    "\n",
    "\n",
    "## About the data:\n",
    "\n",
    "- The data consists of medical costs of people defined by certain conditions.\n",
    "- The data belongs to healthcare domain.\n",
    "- Attributes of the data:\n",
    "    - Age: Age of the primary applicant.\n",
    "    - Sex: Gender of the primary applicant. Either Male or Female.\n",
    "    - BMI: Body Mass Index of the primary applicant. Weights that are relatively high or low relative to height. Uses the ratio of height to weight.\n",
    "    - Children: Number of dependents.\n",
    "    - Smoker: Does the primary applicant smoke or not?\n",
    "    - Region: The applicant's residential area in the US. For example: northeast, southeast, southwest, northwest.\n",
    "    - Charges: Individual medical costs billed by health insurance.\n",
    "    "
   ]
  },
  {
   "cell_type": "code",
   "execution_count": 1,
   "metadata": {},
   "outputs": [],
   "source": [
    "# importing the necessary libraries. \n",
    "# We can add more libraries in the further cells, depending on our need of obesrvations and testings. \n",
    "import numpy as np\n",
    "import pandas as pd\n",
    "import matplotlib.pyplot as plt\n",
    "import seaborn as sns\n",
    "sns.set(color_codes = True)\n",
    "%matplotlib inline"
   ]
  },
  {
   "cell_type": "code",
   "execution_count": 2,
   "metadata": {},
   "outputs": [],
   "source": [
    "# I have created a dataframe named ins.\n",
    "# ins reads the data from insurance.csv and converts it into a dataframe.\n",
    "ins = pd.read_csv('insurance.csv')"
   ]
  },
  {
   "cell_type": "code",
   "execution_count": 4,
   "metadata": {},
   "outputs": [
    {
     "data": {
      "text/html": [
       "<div>\n",
       "<style scoped>\n",
       "    .dataframe tbody tr th:only-of-type {\n",
       "        vertical-align: middle;\n",
       "    }\n",
       "\n",
       "    .dataframe tbody tr th {\n",
       "        vertical-align: top;\n",
       "    }\n",
       "\n",
       "    .dataframe thead th {\n",
       "        text-align: right;\n",
       "    }\n",
       "</style>\n",
       "<table border=\"1\" class=\"dataframe\">\n",
       "  <thead>\n",
       "    <tr style=\"text-align: right;\">\n",
       "      <th></th>\n",
       "      <th>age</th>\n",
       "      <th>sex</th>\n",
       "      <th>bmi</th>\n",
       "      <th>children</th>\n",
       "      <th>smoker</th>\n",
       "      <th>region</th>\n",
       "      <th>charges</th>\n",
       "    </tr>\n",
       "  </thead>\n",
       "  <tbody>\n",
       "    <tr>\n",
       "      <th>0</th>\n",
       "      <td>19</td>\n",
       "      <td>female</td>\n",
       "      <td>27.900</td>\n",
       "      <td>0</td>\n",
       "      <td>yes</td>\n",
       "      <td>southwest</td>\n",
       "      <td>16884.92400</td>\n",
       "    </tr>\n",
       "    <tr>\n",
       "      <th>1</th>\n",
       "      <td>18</td>\n",
       "      <td>male</td>\n",
       "      <td>33.770</td>\n",
       "      <td>1</td>\n",
       "      <td>no</td>\n",
       "      <td>southeast</td>\n",
       "      <td>1725.55230</td>\n",
       "    </tr>\n",
       "    <tr>\n",
       "      <th>2</th>\n",
       "      <td>28</td>\n",
       "      <td>male</td>\n",
       "      <td>33.000</td>\n",
       "      <td>3</td>\n",
       "      <td>no</td>\n",
       "      <td>southeast</td>\n",
       "      <td>4449.46200</td>\n",
       "    </tr>\n",
       "    <tr>\n",
       "      <th>3</th>\n",
       "      <td>33</td>\n",
       "      <td>male</td>\n",
       "      <td>22.705</td>\n",
       "      <td>0</td>\n",
       "      <td>no</td>\n",
       "      <td>northwest</td>\n",
       "      <td>21984.47061</td>\n",
       "    </tr>\n",
       "    <tr>\n",
       "      <th>4</th>\n",
       "      <td>32</td>\n",
       "      <td>male</td>\n",
       "      <td>28.880</td>\n",
       "      <td>0</td>\n",
       "      <td>no</td>\n",
       "      <td>northwest</td>\n",
       "      <td>3866.85520</td>\n",
       "    </tr>\n",
       "  </tbody>\n",
       "</table>\n",
       "</div>"
      ],
      "text/plain": [
       "   age     sex     bmi  children smoker     region      charges\n",
       "0   19  female  27.900         0    yes  southwest  16884.92400\n",
       "1   18    male  33.770         1     no  southeast   1725.55230\n",
       "2   28    male  33.000         3     no  southeast   4449.46200\n",
       "3   33    male  22.705         0     no  northwest  21984.47061\n",
       "4   32    male  28.880         0     no  northwest   3866.85520"
      ]
     },
     "execution_count": 4,
     "metadata": {},
     "output_type": "execute_result"
    }
   ],
   "source": [
    "# I have used the head() in order to get the view of the first 5 rows of the dataframe.\n",
    "# head() gives me a view of what kind of data to expect for each attribute i.e. int or float or object\n",
    "ins.head()"
   ]
  },
  {
   "cell_type": "code",
   "execution_count": 5,
   "metadata": {},
   "outputs": [
    {
     "data": {
      "text/plain": [
       "(1338, 7)"
      ]
     },
     "execution_count": 5,
     "metadata": {},
     "output_type": "execute_result"
    }
   ],
   "source": [
    "# I have used the shape property of pandas to retrieve the rows and columns of the \n",
    "ins.shape"
   ]
  },
  {
   "cell_type": "markdown",
   "metadata": {},
   "source": [
    "#### From the above output we now know that, ins has 1338 records(rows) and 7 attributes(columns)."
   ]
  },
  {
   "cell_type": "code",
   "execution_count": 6,
   "metadata": {},
   "outputs": [
    {
     "name": "stdout",
     "output_type": "stream",
     "text": [
      "<class 'pandas.core.frame.DataFrame'>\n",
      "RangeIndex: 1338 entries, 0 to 1337\n",
      "Data columns (total 7 columns):\n",
      " #   Column    Non-Null Count  Dtype  \n",
      "---  ------    --------------  -----  \n",
      " 0   age       1338 non-null   int64  \n",
      " 1   sex       1338 non-null   object \n",
      " 2   bmi       1338 non-null   float64\n",
      " 3   children  1338 non-null   int64  \n",
      " 4   smoker    1338 non-null   object \n",
      " 5   region    1338 non-null   object \n",
      " 6   charges   1338 non-null   float64\n",
      "dtypes: float64(2), int64(2), object(3)\n",
      "memory usage: 73.3+ KB\n"
     ]
    }
   ],
   "source": [
    "# We will now check the data types of each column and also check the presence of null values for each column.\n",
    "# I have used the info() to retrieve the data types of the columns and also to check for the null values for each column.\n",
    "ins.info()"
   ]
  },
  {
   "cell_type": "markdown",
   "metadata": {},
   "source": [
    "#### Let us read the above result:\n",
    "- From the first line we get to know that ins is a pandas dataframe.\n",
    "- From the second line we get to know that the range index of ins varies from 0 to 1337.\n",
    "- From the third line, we see a table that consists of the following:\n",
    "    - #: Serial Number (in this case it varies from 0 to 6, 7 columns).\n",
    "    - Column: Name of the column(age, sex, bmi, children, smoker, region, charges)\n",
    "    - Non-Null Count: We can get two values here null or non null (in our case we have got non null for all the column names, indicating absence of null values in any columns).\n",
    "    - Dtype: Data type of each column.\n",
    "- From the fourth line, we get to know the number of columns for each data type.\n",
    "- From the fifth line, we get to know the amount of memory that is being used by this dataframe."
   ]
  },
  {
   "cell_type": "markdown",
   "metadata": {},
   "source": [
    "### Five Point Summary:\n",
    "\n",
    "A five point summary talks about the following characteristics of the numerical data present in the dataframe.\n",
    "1. Min\n",
    "2. Q1 (25th Percentile)\n",
    "3. Q2 (50th Percentile)\n",
    "4. Q3 (75th Percentile)\n",
    "5. Max\n",
    "\n",
    "We can find the above values using the describe() or also individually.\n"
   ]
  },
  {
   "cell_type": "code",
   "execution_count": 7,
   "metadata": {},
   "outputs": [
    {
     "data": {
      "text/html": [
       "<div>\n",
       "<style scoped>\n",
       "    .dataframe tbody tr th:only-of-type {\n",
       "        vertical-align: middle;\n",
       "    }\n",
       "\n",
       "    .dataframe tbody tr th {\n",
       "        vertical-align: top;\n",
       "    }\n",
       "\n",
       "    .dataframe thead th {\n",
       "        text-align: right;\n",
       "    }\n",
       "</style>\n",
       "<table border=\"1\" class=\"dataframe\">\n",
       "  <thead>\n",
       "    <tr style=\"text-align: right;\">\n",
       "      <th></th>\n",
       "      <th>age</th>\n",
       "      <th>bmi</th>\n",
       "      <th>children</th>\n",
       "      <th>charges</th>\n",
       "    </tr>\n",
       "  </thead>\n",
       "  <tbody>\n",
       "    <tr>\n",
       "      <th>count</th>\n",
       "      <td>1338.000000</td>\n",
       "      <td>1338.000000</td>\n",
       "      <td>1338.000000</td>\n",
       "      <td>1338.000000</td>\n",
       "    </tr>\n",
       "    <tr>\n",
       "      <th>mean</th>\n",
       "      <td>39.207025</td>\n",
       "      <td>30.663397</td>\n",
       "      <td>1.094918</td>\n",
       "      <td>13270.422265</td>\n",
       "    </tr>\n",
       "    <tr>\n",
       "      <th>std</th>\n",
       "      <td>14.049960</td>\n",
       "      <td>6.098187</td>\n",
       "      <td>1.205493</td>\n",
       "      <td>12110.011237</td>\n",
       "    </tr>\n",
       "    <tr>\n",
       "      <th>min</th>\n",
       "      <td>18.000000</td>\n",
       "      <td>15.960000</td>\n",
       "      <td>0.000000</td>\n",
       "      <td>1121.873900</td>\n",
       "    </tr>\n",
       "    <tr>\n",
       "      <th>25%</th>\n",
       "      <td>27.000000</td>\n",
       "      <td>26.296250</td>\n",
       "      <td>0.000000</td>\n",
       "      <td>4740.287150</td>\n",
       "    </tr>\n",
       "    <tr>\n",
       "      <th>50%</th>\n",
       "      <td>39.000000</td>\n",
       "      <td>30.400000</td>\n",
       "      <td>1.000000</td>\n",
       "      <td>9382.033000</td>\n",
       "    </tr>\n",
       "    <tr>\n",
       "      <th>75%</th>\n",
       "      <td>51.000000</td>\n",
       "      <td>34.693750</td>\n",
       "      <td>2.000000</td>\n",
       "      <td>16639.912515</td>\n",
       "    </tr>\n",
       "    <tr>\n",
       "      <th>max</th>\n",
       "      <td>64.000000</td>\n",
       "      <td>53.130000</td>\n",
       "      <td>5.000000</td>\n",
       "      <td>63770.428010</td>\n",
       "    </tr>\n",
       "  </tbody>\n",
       "</table>\n",
       "</div>"
      ],
      "text/plain": [
       "               age          bmi     children       charges\n",
       "count  1338.000000  1338.000000  1338.000000   1338.000000\n",
       "mean     39.207025    30.663397     1.094918  13270.422265\n",
       "std      14.049960     6.098187     1.205493  12110.011237\n",
       "min      18.000000    15.960000     0.000000   1121.873900\n",
       "25%      27.000000    26.296250     0.000000   4740.287150\n",
       "50%      39.000000    30.400000     1.000000   9382.033000\n",
       "75%      51.000000    34.693750     2.000000  16639.912515\n",
       "max      64.000000    53.130000     5.000000  63770.428010"
      ]
     },
     "execution_count": 7,
     "metadata": {},
     "output_type": "execute_result"
    }
   ],
   "source": [
    "# Finding the 4 Point summary using the describe().\n",
    "ins.describe()"
   ]
  },
  {
   "cell_type": "code",
   "execution_count": 14,
   "metadata": {},
   "outputs": [
    {
     "data": {
      "text/plain": [
       "age           18.0000\n",
       "bmi           15.9600\n",
       "children       0.0000\n",
       "charges     1121.8739\n",
       "dtype: float64"
      ]
     },
     "execution_count": 14,
     "metadata": {},
     "output_type": "execute_result"
    }
   ],
   "source": [
    "ins.min(numeric_only = True) #considering only numeric columns"
   ]
  },
  {
   "cell_type": "code",
   "execution_count": 9,
   "metadata": {},
   "outputs": [
    {
     "data": {
      "text/plain": [
       "age           27.00000\n",
       "bmi           26.29625\n",
       "children       0.00000\n",
       "charges     4740.28715\n",
       "Name: 0.25, dtype: float64"
      ]
     },
     "execution_count": 9,
     "metadata": {},
     "output_type": "execute_result"
    }
   ],
   "source": [
    "ins.quantile(0.25) # 0.25 indicating the 25th percentile"
   ]
  },
  {
   "cell_type": "code",
   "execution_count": 10,
   "metadata": {},
   "outputs": [
    {
     "data": {
      "text/plain": [
       "age           39.000\n",
       "bmi           30.400\n",
       "children       1.000\n",
       "charges     9382.033\n",
       "Name: 0.5, dtype: float64"
      ]
     },
     "execution_count": 10,
     "metadata": {},
     "output_type": "execute_result"
    }
   ],
   "source": [
    "ins.quantile(0.50) # 0.50 indicating the 50th percentile or the median"
   ]
  },
  {
   "cell_type": "code",
   "execution_count": 11,
   "metadata": {},
   "outputs": [
    {
     "data": {
      "text/plain": [
       "age            51.000000\n",
       "bmi            34.693750\n",
       "children        2.000000\n",
       "charges     16639.912515\n",
       "Name: 0.75, dtype: float64"
      ]
     },
     "execution_count": 11,
     "metadata": {},
     "output_type": "execute_result"
    }
   ],
   "source": [
    "ins.quantile(0.75) # 0.75 indicating the 75th percentile"
   ]
  },
  {
   "cell_type": "code",
   "execution_count": 15,
   "metadata": {},
   "outputs": [
    {
     "data": {
      "text/plain": [
       "age            64.00000\n",
       "bmi            53.13000\n",
       "children        5.00000\n",
       "charges     63770.42801\n",
       "dtype: float64"
      ]
     },
     "execution_count": 15,
     "metadata": {},
     "output_type": "execute_result"
    }
   ],
   "source": [
    "ins.max(numeric_only = True) #considering only numeric columns"
   ]
  },
  {
   "cell_type": "markdown",
   "metadata": {},
   "source": [
    "### From the above 5 point summary we can find out two more information:\n",
    "\n",
    "1. Range: This will tell us the spread of the data. max-min\n",
    "2. IQR: The interquartile range is a measure of where the “middle fifty” is in a data set. Where a range is a measure of where the beginning and end are in a set, an interquartile range is a measure of where the bulk of the values lie. Q3-Q1"
   ]
  },
  {
   "cell_type": "code",
   "execution_count": 16,
   "metadata": {},
   "outputs": [
    {
     "data": {
      "text/plain": [
       "age            46.00000\n",
       "bmi            37.17000\n",
       "children        5.00000\n",
       "charges     62648.55411\n",
       "dtype: float64"
      ]
     },
     "execution_count": 16,
     "metadata": {},
     "output_type": "execute_result"
    }
   ],
   "source": [
    "ins.max(numeric_only = True)-ins.min(numeric_only = True) #range of each column"
   ]
  },
  {
   "cell_type": "code",
   "execution_count": 17,
   "metadata": {},
   "outputs": [
    {
     "data": {
      "text/plain": [
       "age            24.000000\n",
       "bmi             8.397500\n",
       "children        2.000000\n",
       "charges     11899.625365\n",
       "dtype: float64"
      ]
     },
     "execution_count": 17,
     "metadata": {},
     "output_type": "execute_result"
    }
   ],
   "source": [
    "ins.quantile(0.75) - ins.quantile(0.25) #IQR of each column"
   ]
  },
  {
   "cell_type": "markdown",
   "metadata": {},
   "source": [
    "### Let us check the distribution of BMI, Age and Charges. We will use the distplot() from the seaborn library."
   ]
  },
  {
   "cell_type": "code",
   "execution_count": 30,
   "metadata": {
    "scrolled": true
   },
   "outputs": [
    {
     "data": {
      "image/png": "[encoded data removed]",
      "text/plain": [
       "<Figure size 432x288 with 1 Axes>"
      ]
     },
     "metadata": {
      "needs_background": "light"
     },
     "output_type": "display_data"
    }
   ],
   "source": [
    "sns.distplot(ins['bmi'], bins = 10);"
   ]
  },
  {
   "cell_type": "code",
   "execution_count": 24,
   "metadata": {},
   "outputs": [
    {
     "data": {
      "image/png": "[encoded data removed]",
      "text/plain": [
       "<Figure size 432x288 with 1 Axes>"
      ]
     },
     "metadata": {
      "needs_background": "light"
     },
     "output_type": "display_data"
    }
   ],
   "source": [
    "sns.distplot(ins['age'], bins = 10);"
   ]
  },
  {
   "cell_type": "code",
   "execution_count": 31,
   "metadata": {},
   "outputs": [
    {
     "data": {
      "image/png": "[encoded data removed]",
      "text/plain": [
       "<Figure size 432x288 with 1 Axes>"
      ]
     },
     "metadata": {
      "needs_background": "light"
     },
     "output_type": "display_data"
    }
   ],
   "source": [
    "sns.distplot(ins['charges'], bins = 10);"
   ]
  },
  {
   "cell_type": "markdown",
   "metadata": {},
   "source": [
    "#### From the above charts we can conclude that:\n",
    "1. BMI has close to normal distribution.\n",
    "2. Age has a very varied dsitribution.\n",
    "3. Charges has its distribution right skewed."
   ]
  },
  {
   "cell_type": "markdown",
   "metadata": {},
   "source": [
    "### Let's check the skewness of the BMI, Age and Charges.\n",
    "\n",
    "1. A skewness value of 0 in the output denotes a symmetrical distribution.\n",
    "2. A negative skewness value in the output indicates an asymmetry and the tail is larger towards the left hand side of the distribution.\n",
    "3. A positive skewness value in the output indicates an asymmetry and the tail is larger towards the right hand side of the distribution."
   ]
  },
  {
   "cell_type": "code",
   "execution_count": 32,
   "metadata": {},
   "outputs": [
    {
     "data": {
      "text/plain": [
       "0.2840471105987448"
      ]
     },
     "execution_count": 32,
     "metadata": {},
     "output_type": "execute_result"
    }
   ],
   "source": [
    "ins['bmi'].skew()"
   ]
  },
  {
   "cell_type": "code",
   "execution_count": 33,
   "metadata": {},
   "outputs": [
    {
     "data": {
      "text/plain": [
       "0.05567251565299186"
      ]
     },
     "execution_count": 33,
     "metadata": {},
     "output_type": "execute_result"
    }
   ],
   "source": [
    "ins['age'].skew()"
   ]
  },
  {
   "cell_type": "code",
   "execution_count": 34,
   "metadata": {},
   "outputs": [
    {
     "data": {
      "text/plain": [
       "1.5158796580240388"
      ]
     },
     "execution_count": 34,
     "metadata": {},
     "output_type": "execute_result"
    }
   ],
   "source": [
    "ins['charges'].skew()"
   ]
  },
  {
   "cell_type": "markdown",
   "metadata": {},
   "source": [
    "##### We now know that bmi is slightly right skewed, age is very close to a symmetrical distribution and charges is very much skewed to the right."
   ]
  },
  {
   "cell_type": "markdown",
   "metadata": {},
   "source": [
    "### We will now check for outliers in BMI, Age and Charges.\n",
    "\n",
    " An outlier is a data point that differs significantly from other observations present in the data."
   ]
  },
  {
   "cell_type": "code",
   "execution_count": 48,
   "metadata": {},
   "outputs": [
    {
     "data": {
      "image/png": "[encoded data removed]",
      "text/plain": [
       "<Figure size 720x720 with 1 Axes>"
      ]
     },
     "metadata": {
      "needs_background": "light"
     },
     "output_type": "display_data"
    }
   ],
   "source": [
    "red_circle = dict(markerfacecolor='r', marker='o')\n",
    "ins.boxplot(['bmi'], figsize = (10,10), flierprops = green_diamond)\n",
    "plt.show()"
   ]
  },
  {
   "cell_type": "code",
   "execution_count": 53,
   "metadata": {},
   "outputs": [
    {
     "data": {
      "image/png": "[encoded data removed]",
      "text/plain": [
       "<Figure size 720x720 with 1 Axes>"
      ]
     },
     "metadata": {
      "needs_background": "light"
     },
     "output_type": "display_data"
    }
   ],
   "source": [
    "red_circle = dict(markerfacecolor='r', marker='o')\n",
    "ins.boxplot(['age'], figsize = (10,10), flierprops = red_circle)\n",
    "plt.show()"
   ]
  },
  {
   "cell_type": "code",
   "execution_count": 54,
   "metadata": {},
   "outputs": [
    {
     "data": {
      "image/png": "[encoded data removed]",
      "text/plain": [
       "<Figure size 720x720 with 1 Axes>"
      ]
     },
     "metadata": {
      "needs_background": "light"
     },
     "output_type": "display_data"
    }
   ],
   "source": [
    "red_circle = dict(markerfacecolor='r', marker='o')\n",
    "ins.boxplot(['charges'], figsize = (10,10), flierprops = red_circle)\n",
    "plt.show()"
   ]
  },
  {
   "cell_type": "markdown",
   "metadata": {},
   "source": [
    "### We have 3 categorical data. Sex, Children and Region. We will be plotting them to check their distribution."
   ]
  },
  {
   "cell_type": "code",
   "execution_count": 58,
   "metadata": {},
   "outputs": [
    {
     "data": {
      "text/plain": [
       "<matplotlib.axes._subplots.AxesSubplot at 0x298ad49dec8>"
      ]
     },
     "execution_count": 58,
     "metadata": {},
     "output_type": "execute_result"
    },
    {
     "data": {
      "image/png": "[encoded data removed]",
      "text/plain": [
       "<Figure size 432x288 with 1 Axes>"
      ]
     },
     "metadata": {
      "needs_background": "light"
     },
     "output_type": "display_data"
    }
   ],
   "source": [
    "sns.boxplot(ins['region'], ins['children'], hue=ins['sex'])"
   ]
  },
  {
   "cell_type": "markdown",
   "metadata": {},
   "source": [
    "### Let us now check the correlation between each column using corr() and the pairplot() for visualization.\n",
    "\n",
    "Correlation is Positive when the values increase together. \n",
    "Correlation is Negative when one value decreases as the other increases."
   ]
  },
  {
   "cell_type": "code",
   "execution_count": 60,
   "metadata": {},
   "outputs": [
    {
     "data": {
      "text/html": [
       "<div>\n",
       "<style scoped>\n",
       "    .dataframe tbody tr th:only-of-type {\n",
       "        vertical-align: middle;\n",
       "    }\n",
       "\n",
       "    .dataframe tbody tr th {\n",
       "        vertical-align: top;\n",
       "    }\n",
       "\n",
       "    .dataframe thead th {\n",
       "        text-align: right;\n",
       "    }\n",
       "</style>\n",
       "<table border=\"1\" class=\"dataframe\">\n",
       "  <thead>\n",
       "    <tr style=\"text-align: right;\">\n",
       "      <th></th>\n",
       "      <th>age</th>\n",
       "      <th>bmi</th>\n",
       "      <th>children</th>\n",
       "      <th>charges</th>\n",
       "    </tr>\n",
       "  </thead>\n",
       "  <tbody>\n",
       "    <tr>\n",
       "      <th>age</th>\n",
       "      <td>1.000000</td>\n",
       "      <td>0.109272</td>\n",
       "      <td>0.042469</td>\n",
       "      <td>0.299008</td>\n",
       "    </tr>\n",
       "    <tr>\n",
       "      <th>bmi</th>\n",
       "      <td>0.109272</td>\n",
       "      <td>1.000000</td>\n",
       "      <td>0.012759</td>\n",
       "      <td>0.198341</td>\n",
       "    </tr>\n",
       "    <tr>\n",
       "      <th>children</th>\n",
       "      <td>0.042469</td>\n",
       "      <td>0.012759</td>\n",
       "      <td>1.000000</td>\n",
       "      <td>0.067998</td>\n",
       "    </tr>\n",
       "    <tr>\n",
       "      <th>charges</th>\n",
       "      <td>0.299008</td>\n",
       "      <td>0.198341</td>\n",
       "      <td>0.067998</td>\n",
       "      <td>1.000000</td>\n",
       "    </tr>\n",
       "  </tbody>\n",
       "</table>\n",
       "</div>"
      ],
      "text/plain": [
       "               age       bmi  children   charges\n",
       "age       1.000000  0.109272  0.042469  0.299008\n",
       "bmi       0.109272  1.000000  0.012759  0.198341\n",
       "children  0.042469  0.012759  1.000000  0.067998\n",
       "charges   0.299008  0.198341  0.067998  1.000000"
      ]
     },
     "execution_count": 60,
     "metadata": {},
     "output_type": "execute_result"
    }
   ],
   "source": [
    "ins.corr()"
   ]
  },
  {
   "cell_type": "code",
   "execution_count": 62,
   "metadata": {},
   "outputs": [
    {
     "data": {
      "text/plain": [
       "<seaborn.axisgrid.PairGrid at 0x298afa95188>"
      ]
     },
     "execution_count": 62,
     "metadata": {},
     "output_type": "execute_result"
    },
    {
     "data": {
      "image/png": "[encoded data removed]",
      "text/plain": [
       "<Figure size 720x720 with 20 Axes>"
      ]
     },
     "metadata": {
      "needs_background": "light"
     },
     "output_type": "display_data"
    }
   ],
   "source": [
    "sns.pairplot(ins, kind ='reg')"
   ]
  },
  {
   "cell_type": "markdown",
   "metadata": {},
   "source": [
    "### Let us perform some hypothesis testing on the given data:\n",
    "\n",
    "### 1. Do charges of people who smoke differ significantly from the people who don't?\n",
    "- Let us define the H0 and H1:\n",
    "    - Null Hypothesis(H0): charges of smokers or non smokers does not differ.\n",
    "    - Alternate Hypothesis(H1): charges of people who smoke differ significantly from the people who don't.\n",
    "    "
   ]
  },
  {
   "cell_type": "code",
   "execution_count": 70,
   "metadata": {},
   "outputs": [],
   "source": [
    "smokers_charge = ins[['smoker','charges']].copy()"
   ]
  },
  {
   "cell_type": "code",
   "execution_count": 71,
   "metadata": {},
   "outputs": [
    {
     "data": {
      "text/html": [
       "<div>\n",
       "<style scoped>\n",
       "    .dataframe tbody tr th:only-of-type {\n",
       "        vertical-align: middle;\n",
       "    }\n",
       "\n",
       "    .dataframe tbody tr th {\n",
       "        vertical-align: top;\n",
       "    }\n",
       "\n",
       "    .dataframe thead th {\n",
       "        text-align: right;\n",
       "    }\n",
       "</style>\n",
       "<table border=\"1\" class=\"dataframe\">\n",
       "  <thead>\n",
       "    <tr style=\"text-align: right;\">\n",
       "      <th></th>\n",
       "      <th>smoker</th>\n",
       "      <th>charges</th>\n",
       "    </tr>\n",
       "  </thead>\n",
       "  <tbody>\n",
       "    <tr>\n",
       "      <th>0</th>\n",
       "      <td>yes</td>\n",
       "      <td>16884.92400</td>\n",
       "    </tr>\n",
       "    <tr>\n",
       "      <th>1</th>\n",
       "      <td>no</td>\n",
       "      <td>1725.55230</td>\n",
       "    </tr>\n",
       "    <tr>\n",
       "      <th>2</th>\n",
       "      <td>no</td>\n",
       "      <td>4449.46200</td>\n",
       "    </tr>\n",
       "    <tr>\n",
       "      <th>3</th>\n",
       "      <td>no</td>\n",
       "      <td>21984.47061</td>\n",
       "    </tr>\n",
       "    <tr>\n",
       "      <th>4</th>\n",
       "      <td>no</td>\n",
       "      <td>3866.85520</td>\n",
       "    </tr>\n",
       "  </tbody>\n",
       "</table>\n",
       "</div>"
      ],
      "text/plain": [
       "  smoker      charges\n",
       "0    yes  16884.92400\n",
       "1     no   1725.55230\n",
       "2     no   4449.46200\n",
       "3     no  21984.47061\n",
       "4     no   3866.85520"
      ]
     },
     "execution_count": 71,
     "metadata": {},
     "output_type": "execute_result"
    }
   ],
   "source": [
    "smokers_charge.head()"
   ]
  },
  {
   "cell_type": "code",
   "execution_count": 93,
   "metadata": {},
   "outputs": [
    {
     "name": "stdout",
     "output_type": "stream",
     "text": [
      "[16884.924   27808.7251  39611.7577  36837.467   37701.8768  38711.\n",
      " 35585.576   51194.55914 39774.2763  48173.361   38709.176   23568.272\n",
      " 37742.5757  47496.49445 34303.1672  23244.7902  14711.7438  17663.1442\n",
      " 16577.7795  37165.1638  39836.519   21098.55405 43578.9394  30184.9367\n",
      " 47291.055   22412.6485  15820.699   30942.1918  17560.37975 47055.5321\n",
      " 19107.7796  39556.4945  17081.08    32734.1863  18972.495   20745.9891\n",
      " 40720.55105 19964.7463  21223.6758  15518.18025 36950.2567  21348.706\n",
      " 36149.4835  48824.45    43753.33705 37133.8982  20984.0936  34779.615\n",
      " 19515.5416  19444.2658  17352.6803  38511.6283  29523.1656  12829.4551\n",
      " 47305.305   44260.7499  41097.16175 43921.1837  33750.2918  17085.2676\n",
      " 24869.8368  36219.40545 46151.1245  17179.522   42856.838   22331.5668\n",
      " 48549.17835 47896.79135 42112.2356  16297.846   21978.6769  38746.3551\n",
      " 24873.3849  42124.5153  34838.873   35491.64    42760.5022  47928.03\n",
      " 48517.56315 24393.6224  41919.097   13844.506   36085.219   18033.9679\n",
      " 21659.9301  38126.2465  15006.57945 42303.69215 19594.80965 14455.64405\n",
      " 18608.262   28950.4692  46889.2612  46599.1084  39125.33225 37079.372\n",
      " 26109.32905 22144.032   19521.9682  25382.297   28868.6639  35147.52848\n",
      " 48885.13561 17942.106   36197.699   22218.1149  32548.3405  21082.16\n",
      " 38245.59327 48675.5177  63770.42801 23807.2406  45863.205   39983.42595\n",
      " 45702.02235 58571.07448 43943.8761  15359.1045  17468.9839  25678.77845\n",
      " 39241.442   42969.8527  23306.547   34439.8559  40182.246   34617.84065\n",
      " 42983.4585  20149.3229  32787.45859 24667.419   27037.9141  42560.4304\n",
      " 40003.33225 45710.20785 46200.9851  46130.5265  40103.89    34806.4677\n",
      " 40273.6455  44400.4064  40932.4295  16657.71745 19361.9988  40419.0191\n",
      " 36189.1017  44585.45587 18246.4955  43254.41795 19539.243   23065.4207\n",
      " 36307.7983  19040.876   17748.5062  18259.216   24520.264   21195.818\n",
      " 18310.742   17904.52705 38792.6856  23401.30575 55135.40209 43813.8661\n",
      " 20773.62775 39597.4072  36021.0112  27533.9129  45008.9555  37270.1512\n",
      " 42111.6647  24106.91255 40974.1649  15817.9857  46113.511   46255.1125\n",
      " 19719.6947  27218.43725 29330.98315 44202.6536  19798.05455 48673.5588\n",
      " 17496.306   33732.6867  21774.32215 35069.37452 39047.285   19933.458\n",
      " 47462.894   38998.546   20009.63365 41999.52    41034.2214  23967.38305\n",
      " 16138.76205 19199.944   14571.8908  16420.49455 17361.7661  34472.841\n",
      " 24915.22085 18767.7377  35595.5898  42211.1382  16450.8947  21677.28345\n",
      " 44423.803   13747.87235 37484.4493  39725.51805 20234.85475 33475.81715\n",
      " 21880.82    44501.3982  39727.614   25309.489   48970.2476  39871.7043\n",
      " 34672.1472  19023.26    41676.0811  33907.548   44641.1974  16776.30405\n",
      " 41949.2441  24180.9335  36124.5737  38282.7495  34166.273   46661.4424\n",
      " 40904.1995  36898.73308 52590.82939 40941.2854  39722.7462  17178.6824\n",
      " 22478.6     23887.6627  19350.3689  18328.2381  37465.34375 21771.3423\n",
      " 33307.5508  18223.4512  38415.474   20296.86345 41661.602   26125.67477\n",
      " 60021.39897 20167.33603 47269.854   49577.6624  37607.5277  18648.4217\n",
      " 16232.847   26926.5144  34254.05335 17043.3414  22462.04375 24535.69855\n",
      " 14283.4594  47403.88    38344.566   34828.654   62592.87309 46718.16325\n",
      " 37829.7242  21259.37795 16115.3045  21472.4788  33900.653   36397.576\n",
      " 18765.87545 28101.33305 43896.3763  29141.3603 ]\n"
     ]
    }
   ],
   "source": [
    "total_smoker_charge = np.array(smokers_charge[smokers_charge['smoker']=='yes']['charges'])\n",
    "print(total_smoker_charge)"
   ]
  },
  {
   "cell_type": "code",
   "execution_count": 95,
   "metadata": {},
   "outputs": [
    {
     "name": "stdout",
     "output_type": "stream",
     "text": [
      "[ 1725.5523   4449.462   21984.47061 ...  2205.9808   1629.8335\n",
      "  2007.945  ]\n"
     ]
    }
   ],
   "source": [
    "total_non_smoker_charge = np.array(smokers_charge[smokers_charge['smoker']=='no']['charges'])\n",
    "print(total_non_smoker_charge)"
   ]
  },
  {
   "cell_type": "code",
   "execution_count": 94,
   "metadata": {},
   "outputs": [
    {
     "name": "stdout",
     "output_type": "stream",
     "text": [
      "Average charge per smoker: 32050.23183153284\n"
     ]
    }
   ],
   "source": [
    "print('Average charge per smoker:', total_smoker_charge.mean())"
   ]
  },
  {
   "cell_type": "code",
   "execution_count": 96,
   "metadata": {},
   "outputs": [
    {
     "name": "stdout",
     "output_type": "stream",
     "text": [
      "Average charge per non smoker: 8434.268297856204\n"
     ]
    }
   ],
   "source": [
    "print('Average charge per non smoker:', total_non_smoker_charge.mean())"
   ]
  },
  {
   "cell_type": "code",
   "execution_count": 97,
   "metadata": {},
   "outputs": [],
   "source": [
    "import scipy.stats as stats\n",
    "from statsmodels.stats.proportion import proportions_ztest\n",
    "from statsmodels.formula.api import ols\n",
    "import statsmodels.api as sm"
   ]
  },
  {
   "cell_type": "code",
   "execution_count": 99,
   "metadata": {},
   "outputs": [],
   "source": [
    "t, pval = stats.ttest_ind(total_smoker_charge, total_non_smoker_charge, axis = 0)"
   ]
  },
  {
   "cell_type": "code",
   "execution_count": 104,
   "metadata": {},
   "outputs": [
    {
     "name": "stdout",
     "output_type": "stream",
     "text": [
      "With a p-value of 0.0 the difference is significant. aka |We reject the null|\n"
     ]
    }
   ],
   "source": [
    "if pval < 0.05:\n",
    "    print(f'With a p-value of {round(pval,5)} the difference is significant. aka |We reject the null|')\n",
    "else:\n",
    "    print(f'With a p-value of {round(pval,5)} the difference is not significant. aka |We fail to reject the null|')"
   ]
  },
  {
   "cell_type": "markdown",
   "metadata": {},
   "source": [
    "### 2. Does bmi of males differ significantly from that of females?\n",
    "- Let us define the H0 and H1:\n",
    "    - Null Hypothesis(H0): bmi of males or females does not differ.\n",
    "    - Alternate Hypothesis(H1): bmi of males and females differ significantly."
   ]
  },
  {
   "cell_type": "code",
   "execution_count": 107,
   "metadata": {},
   "outputs": [
    {
     "data": {
      "text/plain": [
       "array([27.9  , 25.74 , 33.44 , 27.74 , 25.84 , 26.29 , 39.82 , 30.78 ,\n",
       "       36.005, 32.4  , 31.92 , 27.72 , 23.085, 32.775, 26.315, 28.6  ,\n",
       "       32.965, 26.6  , 36.63 , 30.8  , 38.665, 34.77 , 24.53 , 35.625,\n",
       "       33.63 , 28.69 , 31.825, 22.88 , 37.335, 25.935, 22.42 , 28.9  ,\n",
       "       39.1  , 36.19 , 24.75 , 28.1  , 29.59 , 39.805, 32.965, 38.285,\n",
       "       41.23 , 34.8  , 31.16 , 27.2  , 27.74 , 26.98 , 39.49 , 24.795,\n",
       "       31.3  , 37.62 , 30.8  , 31.6  , 30.115, 29.92 , 27.5  , 28.4  ,\n",
       "       29.7  , 35.72 , 27.94 , 27.17 , 23.37 , 28.975, 33.915, 28.785,\n",
       "       28.3  , 37.4  , 17.765, 26.505, 22.04 , 35.9  , 28.785, 28.05 ,\n",
       "       31.9  , 36.   , 38.83 , 37.73 , 37.43 , 37.145, 23.37 , 25.46 ,\n",
       "       27.83 , 26.6  , 36.85 , 29.8  , 37.   , 33.155, 31.825, 34.8  ,\n",
       "       33.345, 37.7  , 28.9  , 33.155, 38.28 , 26.41 , 29.92 , 30.9  ,\n",
       "       32.2  , 32.11 , 26.2  , 26.6  , 32.8  , 28.6  , 18.05 , 39.33 ,\n",
       "       32.11 , 32.23 , 24.035, 36.08 , 28.88 , 31.8  , 26.73 , 30.9  ,\n",
       "       37.1  , 26.6  , 29.92 , 23.21 , 33.7  , 33.25 , 41.91 , 31.635,\n",
       "       36.195, 27.83 , 17.8  , 22.22 , 26.73 , 36.67 , 22.135, 26.8  ,\n",
       "       27.74 , 38.06 , 32.2  , 25.365, 40.15 , 25.2  , 26.84 , 38.06 ,\n",
       "       32.395, 26.6  , 24.3  , 21.56 , 28.12 , 32.395, 31.2  , 48.07 ,\n",
       "       26.22 , 36.765, 33.4  , 28.82 , 28.88 , 22.61 , 37.51 , 33.   ,\n",
       "       38.   , 27.5  , 33.33 , 33.06 , 24.7  , 31.4  , 27.645, 29.64 ,\n",
       "       23.21 , 33.8  , 36.385, 31.16 , 28.785, 35.72 , 27.72 , 27.6  ,\n",
       "       27.55 , 41.47 , 29.26 , 29.92 , 23.18 , 25.6  , 27.7  , 38.28 ,\n",
       "       20.79 , 32.3  , 21.7  , 26.4  , 21.89 , 30.78 , 32.3  , 24.985,\n",
       "       21.09 , 22.23 , 33.155, 28.31 , 24.89 , 30.115, 17.955, 43.34 ,\n",
       "       39.05 , 22.61 , 30.21 , 37.43 , 32.3  , 34.4  , 38.17 , 20.6  ,\n",
       "       32.965, 38.38 , 24.31 , 23.6  , 20.235, 17.195, 35.15 , 35.64 ,\n",
       "       22.6  , 26.98 , 27.265, 29.165, 16.815, 30.4  , 20.235, 30.5  ,\n",
       "       46.75 , 32.68 , 33.5  , 36.52 , 33.1  , 25.65 , 29.6  , 30.14 ,\n",
       "       30.495, 33.   , 36.63 , 38.095, 28.38 , 28.7  , 33.82 , 24.32 ,\n",
       "       24.09 , 30.115, 29.8  , 33.345, 31.35 , 39.5  , 31.065, 21.47 ,\n",
       "       38.06 , 32.9  , 25.08 , 25.08 , 23.6  , 23.98 , 39.2  , 28.93 ,\n",
       "       25.27 , 28.7  , 31.   , 27.36 , 44.22 , 33.915, 37.73 , 33.88 ,\n",
       "       30.59 , 25.8  , 31.73 , 38.9  , 30.2  , 28.05 , 38.   , 31.79 ,\n",
       "       36.3  , 47.41 , 46.7  , 28.595, 46.2  , 28.93 , 31.73 , 41.325,\n",
       "       34.105, 19.95 , 32.68 , 32.12 , 30.495, 40.565, 31.9  , 29.1  ,\n",
       "       37.29 , 43.12 , 36.86 , 34.295, 27.17 , 38.095, 23.465, 23.65 ,\n",
       "       28.27 , 30.21 , 35.91 , 30.69 , 29.   , 21.85 , 33.725, 29.48 ,\n",
       "       33.25 , 37.525, 39.16 , 25.3  , 39.05 , 28.31 , 34.1  , 25.175,\n",
       "       23.655, 29.37 , 34.8  , 33.155, 19.   , 33.   , 36.63 , 28.595,\n",
       "       33.11 , 37.1  , 21.3  , 26.03 , 38.95 , 35.53 , 24.51 , 38.095,\n",
       "       34.96 , 23.37 , 32.965, 42.68 , 39.6  , 31.13 , 36.3  , 35.2  ,\n",
       "       25.3  , 42.4  , 35.91 , 28.785, 23.98 , 31.54 , 22.99 , 32.775,\n",
       "       29.81 , 31.16 , 31.02 , 43.89 , 40.81 , 23.18 , 17.4  , 18.5  ,\n",
       "       24.1  , 34.8  , 40.185, 32.3  , 39.27 , 34.87 , 44.745, 26.41 ,\n",
       "       29.545, 32.9  , 38.06 , 30.495, 27.74 , 23.54 , 30.685, 22.6  ,\n",
       "       22.61 , 36.67 , 33.44 , 40.66 , 27.075, 39.05 , 21.755, 40.28 ,\n",
       "       36.08 , 30.1  , 27.265, 32.1  , 34.77 , 38.39 , 26.62 , 30.115,\n",
       "       36.   , 26.4  , 22.77 , 22.8  , 27.83 , 34.58 , 25.175, 31.825,\n",
       "       29.   , 39.7  , 19.475, 26.7  , 36.48 , 28.88 , 27.6  , 29.26 ,\n",
       "       27.7  , 29.92 , 41.8  , 23.18 , 31.92 , 22.895, 33.1  , 26.18 ,\n",
       "       35.97 , 42.24 , 35.815, 41.42 , 36.575, 30.8  , 42.94 , 31.46 ,\n",
       "       24.225, 26.125, 35.53 , 31.13 , 29.81 , 31.825, 25.84 , 23.845,\n",
       "       28.31 , 23.465, 31.35 , 32.78 , 29.81 , 32.45 , 34.2  , 24.1  ,\n",
       "       30.78 , 35.53 , 23.75 , 23.845, 29.6  , 33.11 , 32.23 , 47.6  ,\n",
       "       28.   , 33.535, 19.855, 24.3  , 29.48 , 28.12 , 27.1  , 29.5  ,\n",
       "       22.135, 37.05 , 30.02 , 26.885, 29.04 , 44.   , 20.045, 40.26 ,\n",
       "       22.515, 35.1  , 29.355, 32.34 , 24.6  , 26.695, 27.5  , 33.99 ,\n",
       "       26.885, 28.2  , 34.21 , 25.   , 33.2  , 23.4  , 20.1  , 39.16 ,\n",
       "       32.5  , 35.3  , 27.5  , 24.225, 46.09 , 40.185, 35.8  , 28.405,\n",
       "       39.615, 25.9  , 35.2  , 34.32 , 28.16 , 23.56 , 20.235, 40.5  ,\n",
       "       39.995, 29.92 , 30.59 , 25.8  , 27.645, 20.52 , 19.8  , 27.835,\n",
       "       31.6  , 20.045, 23.275, 34.1  , 36.85 , 36.29 , 26.885, 22.8  ,\n",
       "       33.33 , 27.6  , 24.605, 34.2  , 35.815, 32.68 , 31.02 , 45.32 ,\n",
       "       34.6  , 17.29 , 23.655, 35.2  , 27.93 , 23.   , 30.495, 28.025,\n",
       "       25.8  , 24.7  , 25.08 , 22.515, 36.955, 21.47 , 28.9  , 31.79 ,\n",
       "       39.49 , 25.6  , 25.3  , 31.9  , 28.88 , 18.335, 29.59 , 32.   ,\n",
       "       30.495, 18.3  , 29.83 , 30.4  , 33.7  , 31.35 , 34.96 , 30.875,\n",
       "       33.99 , 19.095, 31.24 , 29.925, 26.22 , 32.3  , 25.85 , 26.315,\n",
       "       19.95 , 31.4  , 36.86 , 32.395, 42.75 , 25.08 , 35.86 , 18.6  ,\n",
       "       23.87 , 18.335, 28.12 , 25.   , 22.23 , 32.49 , 32.6  , 24.86 ,\n",
       "       31.92 , 30.305, 36.48 , 32.56 , 35.815, 27.93 , 22.135, 23.18 ,\n",
       "       30.59 , 41.1  , 34.58 , 28.215, 28.31 , 26.125, 24.6  , 34.105,\n",
       "       26.7  , 41.91 , 27.1  , 24.13 , 27.4  , 34.865, 41.325, 29.925,\n",
       "       30.3  , 27.36 , 28.49 , 32.68 , 25.27 , 28.   , 32.775, 21.755,\n",
       "       32.395, 36.575, 21.755, 27.93 , 30.02 , 25.8  , 27.28 , 34.8  ,\n",
       "       25.555, 33.3  , 31.255, 34.6  , 30.21 , 21.945, 24.42 , 39.82 ,\n",
       "       21.8  , 24.605, 27.83 , 21.66 , 28.215, 42.13 , 21.28 , 33.11 ,\n",
       "       25.7  , 39.82 , 29.3  , 27.72 , 37.9  , 36.385, 27.645, 23.18 ,\n",
       "       20.52 , 28.05 , 29.9  , 33.345, 30.5  , 33.3  , 34.485, 30.4  ,\n",
       "       29.735, 26.79 , 33.33 , 27.645, 21.66 , 24.32 , 17.29 , 25.9  ,\n",
       "       19.95 , 26.51 , 25.745, 20.8  , 27.72 , 21.85 , 30.2  , 26.695,\n",
       "       34.7  , 23.655, 20.6  , 26.315, 40.37 , 32.87 , 24.225, 25.74 ,\n",
       "       33.4  , 44.7  , 31.92 , 36.85 , 25.8  , 29.07 ])"
      ]
     },
     "execution_count": 107,
     "metadata": {},
     "output_type": "execute_result"
    }
   ],
   "source": [
    "female_bmi = np.array(ins[ins['sex'] == 'female']['bmi'])\n",
    "female_bmi"
   ]
  },
  {
   "cell_type": "code",
   "execution_count": 108,
   "metadata": {},
   "outputs": [
    {
     "data": {
      "text/plain": [
       "array([33.77 , 33.   , 22.705, 28.88 , 29.83 , 26.22 , 34.4  , 42.13 ,\n",
       "       24.6  , 23.845, 40.3  , 35.3  , 34.1  , 28.025, 17.385, 36.3  ,\n",
       "       35.6  , 28.31 , 36.4  , 20.425, 20.8  , 36.67 , 39.9  , 21.78 ,\n",
       "       37.05 , 37.3  , 35.2  , 28.   , 34.43 , 36.955, 31.68 , 27.36 ,\n",
       "       33.66 , 24.7  , 26.315, 23.98 , 28.5  , 32.01 , 27.4  , 34.01 ,\n",
       "       35.53 , 26.885, 37.62 , 22.895, 29.83 , 34.77 , 38.28 , 19.95 ,\n",
       "       19.3  , 25.46 , 28.025, 30.875, 27.94 , 35.09 , 33.63 , 30.8  ,\n",
       "       32.205, 28.595, 49.06 , 37.1  , 23.75 , 31.35 , 34.7  , 25.555,\n",
       "       34.1  , 25.175, 22.42 , 32.49 , 25.3  , 29.735, 28.69 , 30.495,\n",
       "       28.4  , 24.13 , 29.7  , 39.52 , 24.42 , 25.175, 35.53 , 39.6  ,\n",
       "       29.64 , 28.215, 18.905, 41.47 , 30.3  , 15.96 , 27.835, 29.2  ,\n",
       "       28.595, 19.95 , 30.69 , 41.895, 31.57 , 25.74 , 34.43 , 30.59 ,\n",
       "       22.3  , 26.4  , 27.74 , 41.23 , 33.   , 30.875, 28.5  , 23.1  ,\n",
       "       30.8  , 34.8  , 24.64 , 33.88 , 38.06 , 25.46 , 27.5  , 24.51 ,\n",
       "       38.39 , 29.07 , 38.06 , 35.3  , 30.02 , 35.86 , 20.9  , 28.975,\n",
       "       17.29 , 34.21 , 30.3  , 31.825, 33.63 , 24.415, 31.92 , 24.32 ,\n",
       "       36.955, 42.35 , 19.8  , 30.2  , 25.84 , 29.37 , 34.2  , 37.05 ,\n",
       "       27.455, 27.55 , 20.615, 31.79 , 40.565, 27.645, 26.62 , 26.4  ,\n",
       "       29.64 , 45.54 , 26.8  , 22.99 , 27.7  , 25.41 , 34.39 , 27.55 ,\n",
       "       33.345, 34.865, 26.6  , 35.97 , 35.86 , 33.25 , 32.205, 32.775,\n",
       "       37.335, 25.27 , 30.8  , 40.945, 27.2  , 34.105, 36.48 , 36.7  ,\n",
       "       27.36 , 34.5  , 25.74 , 27.55 , 32.3  , 30.02 , 36.765, 35.75 ,\n",
       "       33.345, 27.835, 35.245, 27.6  , 43.89 , 29.83 , 41.91 , 30.5  ,\n",
       "       32.015, 30.4  , 32.9  , 33.33 , 40.15 , 31.46 , 30.685, 33.   ,\n",
       "       22.135, 34.4  , 25.365, 35.625, 31.445, 31.35 , 19.855, 31.02 ,\n",
       "       25.6  , 47.52 , 32.3  , 20.4  , 21.12 , 30.03 , 17.48 , 23.9  ,\n",
       "       34.1  , 39.16 , 33.88 , 35.86 , 32.775, 30.59 , 30.2  , 24.31 ,\n",
       "       33.1  , 26.9  , 28.595, 33.11 , 31.73 , 28.9  , 29.45 , 43.01 ,\n",
       "       26.695, 29.64 , 38.6  , 29.6  , 24.13 , 23.4  , 29.735, 46.53 ,\n",
       "       37.4  , 39.6  , 30.   , 25.935, 25.175, 32.67 , 25.1  , 28.31 ,\n",
       "       28.5  , 35.625, 36.85 , 32.56 , 41.325, 37.51 , 34.3  , 28.7  ,\n",
       "       31.16 , 43.4  , 25.7  , 27.93 , 28.7  , 34.4  , 26.03 , 23.21 ,\n",
       "       30.25 , 30.875, 31.35 , 23.75 , 32.11 , 33.66 , 22.42 , 30.4  ,\n",
       "       28.3  , 35.7  , 35.31 , 30.495, 30.875, 26.07 , 39.425, 25.46 ,\n",
       "       42.13 , 29.7  , 36.19 , 40.48 , 28.025, 31.35 , 30.21 , 25.84 ,\n",
       "       35.435, 30.8  , 21.4  , 23.8  , 33.44 , 34.21 , 35.53 , 30.5  ,\n",
       "       44.77 , 30.59 , 40.565, 26.84 , 30.2  , 25.46 , 30.59 , 45.43 ,\n",
       "       20.7  , 20.235, 19.57 , 31.13 , 40.26 , 32.6  , 31.635, 26.98 ,\n",
       "       37.8  , 25.6  , 31.4  , 34.1  , 33.535, 28.785, 28.88 , 42.46 ,\n",
       "       38.   , 36.1  , 29.3  , 22.705, 39.7  , 38.19 , 26.41 , 33.66 ,\n",
       "       42.4  , 28.31 , 33.915, 35.31 , 30.78 , 26.22 , 28.5  , 33.155,\n",
       "       46.53 , 33.66 , 38.06 , 28.7  , 32.015, 31.57 , 29.7  , 21.375,\n",
       "       31.35 , 36.1  , 20.3  , 35.3  , 24.32 , 26.41 , 26.125, 41.69 ,\n",
       "       31.13 , 27.36 , 36.2  , 32.395, 23.655, 35.75 , 33.725, 41.47 ,\n",
       "       28.69 , 35.2  , 40.47 , 28.9  , 24.32 , 36.6  , 37.4  , 35.4  ,\n",
       "       28.405, 24.42 , 21.4  , 23.7  , 31.73 , 35.5  , 24.035, 29.15 ,\n",
       "       34.105, 26.41 , 27.   , 21.755, 30.875, 28.975, 37.905, 33.63 ,\n",
       "       27.645, 37.43 , 38.17 , 35.2  , 27.1  , 26.03 , 32.3  , 36.1  ,\n",
       "       34.2  , 33.33 , 32.3  , 39.805, 34.32 , 28.88 , 24.4  , 41.14 ,\n",
       "       35.97 , 36.955, 36.86 , 22.515, 27.6  , 20.9  , 28.5  , 44.22 ,\n",
       "       24.795, 22.3  , 26.51 , 30.14 , 25.84 , 21.01 , 22.515, 34.43 ,\n",
       "       37.1  , 33.7  , 17.67 , 24.32 , 31.79 , 28.025, 30.78 , 21.85 ,\n",
       "       33.1  , 34.39 , 33.82 , 35.97 , 31.5  , 31.1  , 24.7  , 30.495,\n",
       "       50.38 , 32.775, 32.3  , 24.13 , 28.1  , 25.4  , 29.9  , 37.29 ,\n",
       "       43.7  , 23.655, 36.2  , 24.86 , 30.1  , 21.85 , 33.44 , 28.8  ,\n",
       "       34.8  , 27.36 , 26.695, 28.93 , 28.975, 39.5  , 33.63 , 24.035,\n",
       "       38.94 , 32.11 , 25.555, 22.515, 40.92 , 27.265, 36.85 , 32.585,\n",
       "       39.8  , 28.31 , 31.73 , 24.605, 22.895, 31.   , 35.815, 23.2  ,\n",
       "       32.11 , 34.21 , 46.53 , 25.8  , 37.18 , 29.735, 26.18 , 29.48 ,\n",
       "       23.21 , 22.61 , 39.93 , 35.8  , 34.2  , 31.255, 29.7  , 18.335,\n",
       "       42.9  , 30.2  , 27.835, 39.49 , 30.8  , 26.79 , 34.96 , 36.67 ,\n",
       "       24.795, 36.765, 27.1  , 24.795, 25.365, 25.745, 35.42 , 22.895,\n",
       "       40.15 , 29.15 , 25.46 , 21.375, 25.9  , 30.115, 30.115, 34.675,\n",
       "       28.27 , 22.99 , 32.7  , 25.8  , 29.6  , 19.19 , 31.73 , 29.26 ,\n",
       "       28.215, 24.985, 27.74 , 20.13 , 32.3  , 25.46 , 37.   , 36.08 ,\n",
       "       23.32 , 26.03 , 18.715, 31.6  , 21.565, 38.38 , 37.07 , 28.88 ,\n",
       "       27.265, 23.085, 30.685, 35.245, 52.58 , 30.9  , 26.41 , 29.83 ,\n",
       "       29.8  , 27.645, 33.82 , 32.01 , 27.94 , 41.14 , 28.595, 37.29 ,\n",
       "       42.655, 21.66 , 37.07 , 31.445, 31.255, 26.03 , 31.68 , 33.66 ,\n",
       "       21.78 , 27.835, 19.95 , 31.5  , 28.975, 31.54 , 47.74 , 22.1  ,\n",
       "       36.19 , 32.7  , 33.77 , 28.6  , 38.94 , 36.08 , 29.8  , 30.   ,\n",
       "       20.35 , 38.39 , 24.51 , 32.67 , 29.64 , 33.33 , 35.75 , 38.17 ,\n",
       "       29.9  , 32.8  , 45.9  , 40.28 , 33.82 , 30.25 , 37.07 , 32.34 ,\n",
       "       32.3  , 32.775, 32.8  , 21.5  , 34.1  , 44.88 , 42.13 , 38.83 ,\n",
       "       40.37 , 35.2  , 27.36 , 29.26 , 32.11 , 29.81 , 23.56 , 35.625,\n",
       "       33.55 , 29.355, 24.32 , 40.375, 32.11 , 32.3  , 17.86 , 33.4  ,\n",
       "       37.1  , 30.875, 34.1  , 21.47 , 39.14 , 25.08 , 37.29 , 24.97 ,\n",
       "       25.3  , 23.94 , 16.815, 37.18 , 34.43 , 30.305, 34.485, 23.3  ,\n",
       "       31.065, 22.705, 41.8  , 36.96 , 33.33 , 24.3  , 29.4  , 33.63 ,\n",
       "       29.83 , 19.8  , 27.3  , 37.715, 37.1  , 23.76 , 31.065, 27.5  ,\n",
       "       33.915, 25.52 , 27.61 , 27.06 , 23.7  , 29.925, 30.03 , 36.3  ,\n",
       "       39.4  , 34.32 , 34.9  , 23.21 , 25.745, 25.175, 22.   , 26.125,\n",
       "       27.455, 30.36 , 30.875, 27.8  , 24.605, 28.12 , 32.2  , 26.315,\n",
       "       42.9  , 28.31 , 53.13 , 39.71 , 31.065, 26.695, 38.83 , 25.935,\n",
       "       33.535, 30.03 , 38.6  , 30.97 ])"
      ]
     },
     "execution_count": 108,
     "metadata": {},
     "output_type": "execute_result"
    }
   ],
   "source": [
    "male_bmi = np.array(ins[ins['sex'] == 'male']['bmi'])\n",
    "male_bmi"
   ]
  },
  {
   "cell_type": "code",
   "execution_count": 110,
   "metadata": {},
   "outputs": [
    {
     "name": "stdout",
     "output_type": "stream",
     "text": [
      "Average BMI per female: 30.37774924471299\n"
     ]
    }
   ],
   "source": [
    "print('Average BMI per female:', female_bmi.mean())"
   ]
  },
  {
   "cell_type": "code",
   "execution_count": 111,
   "metadata": {},
   "outputs": [
    {
     "name": "stdout",
     "output_type": "stream",
     "text": [
      "Average BMI per male: 30.943128698224854\n"
     ]
    }
   ],
   "source": [
    "print('Average BMI per male:', male_bmi.mean())"
   ]
  },
  {
   "cell_type": "code",
   "execution_count": 112,
   "metadata": {},
   "outputs": [],
   "source": [
    "t, pval = stats.ttest_ind(male_bmi, female_bmi, axis = 0)"
   ]
  },
  {
   "cell_type": "code",
   "execution_count": 113,
   "metadata": {},
   "outputs": [
    {
     "name": "stdout",
     "output_type": "stream",
     "text": [
      "With a p-value of 0.08998 the difference is not significant. aka |We fail to reject the null|\n"
     ]
    }
   ],
   "source": [
    "if pval < 0.05:\n",
    "    print(f'With a p-value of {round(pval,5)} the difference is significant. aka |We reject the null|')\n",
    "else:\n",
    "    print(f'With a p-value of {round(pval,5)} the difference is not significant. aka |We fail to reject the null|')"
   ]
  },
  {
   "cell_type": "markdown",
   "metadata": {},
   "source": [
    "### 3. Is the proportion of smokers significantly different in different genders?\n",
    "- Let us define the H0 and H1:\n",
    "    - Null Hypothesis(H0): The proportions are equal.\n",
    "    - Alternate Hypothesis(H1): The two proportions are not equal."
   ]
  },
  {
   "cell_type": "code",
   "execution_count": 116,
   "metadata": {},
   "outputs": [
    {
     "data": {
      "text/plain": [
       "115"
      ]
     },
     "execution_count": 116,
     "metadata": {},
     "output_type": "execute_result"
    }
   ],
   "source": [
    "female_smokers = ins[ins['sex'] == 'female'].smoker.value_counts()[1]\n",
    "female_smokers"
   ]
  },
  {
   "cell_type": "code",
   "execution_count": 117,
   "metadata": {},
   "outputs": [
    {
     "data": {
      "text/plain": [
       "159"
      ]
     },
     "execution_count": 117,
     "metadata": {},
     "output_type": "execute_result"
    }
   ],
   "source": [
    "male_smokers = ins[ins['sex'] == 'male'].smoker.value_counts()[1] \n",
    "male_smokers"
   ]
  },
  {
   "cell_type": "code",
   "execution_count": 119,
   "metadata": {},
   "outputs": [
    {
     "data": {
      "text/plain": [
       "662"
      ]
     },
     "execution_count": 119,
     "metadata": {},
     "output_type": "execute_result"
    }
   ],
   "source": [
    "n_females = ins.sex.value_counts()[1]\n",
    "n_females"
   ]
  },
  {
   "cell_type": "code",
   "execution_count": 120,
   "metadata": {},
   "outputs": [
    {
     "data": {
      "text/plain": [
       "676"
      ]
     },
     "execution_count": 120,
     "metadata": {},
     "output_type": "execute_result"
    }
   ],
   "source": [
    "n_males = ins.sex.value_counts()[0]\n",
    "n_males"
   ]
  },
  {
   "cell_type": "code",
   "execution_count": 121,
   "metadata": {},
   "outputs": [
    {
     "name": "stdout",
     "output_type": "stream",
     "text": [
      " Proportion of smokers in females, males = 0.17%, 0.24% respectively\n"
     ]
    }
   ],
   "source": [
    "print(f' Proportion of smokers in females, males = {round(female_smokers/n_females,2)}%, {round(male_smokers/n_males,2)}% respectively')"
   ]
  },
  {
   "cell_type": "code",
   "execution_count": 122,
   "metadata": {},
   "outputs": [
    {
     "name": "stdout",
     "output_type": "stream",
     "text": [
      "With a p-value of 0.0053 the difference is significant. aka |We reject the null|\n"
     ]
    }
   ],
   "source": [
    "stat, pval = proportions_ztest([female_smokers, male_smokers] , [n_females, n_males])\n",
    "\n",
    "if pval < 0.05:\n",
    "    print(f'With a p-value of {round(pval,4)} the difference is significant. aka |We reject the null|')\n",
    "else:\n",
    "    print(f'With a p-value of {round(pval,4)} the difference is not significant. aka |We fail to reject the null|')"
   ]
  },
  {
   "cell_type": "markdown",
   "metadata": {},
   "source": [
    "### 4. Is the proportion of smokers significantly different in different genders?\n",
    "- Let us define the H0 and H1:\n",
    "    - Null Hypothesis(H0): Distribution of bmi across women with no children, one child and two children are the same.\n",
    "    - Alternate Hypothesis(H1): Distribution of bmi across women with no children, one child and two children are not the same or atleast one pair is not the same."
   ]
  },
  {
   "cell_type": "code",
   "execution_count": 129,
   "metadata": {},
   "outputs": [
    {
     "data": {
      "text/html": [
       "<div>\n",
       "<style scoped>\n",
       "    .dataframe tbody tr th:only-of-type {\n",
       "        vertical-align: middle;\n",
       "    }\n",
       "\n",
       "    .dataframe tbody tr th {\n",
       "        vertical-align: top;\n",
       "    }\n",
       "\n",
       "    .dataframe thead th {\n",
       "        text-align: right;\n",
       "    }\n",
       "</style>\n",
       "<table border=\"1\" class=\"dataframe\">\n",
       "  <thead>\n",
       "    <tr style=\"text-align: right;\">\n",
       "      <th></th>\n",
       "      <th>bmi</th>\n",
       "      <th>children</th>\n",
       "    </tr>\n",
       "  </thead>\n",
       "  <tbody>\n",
       "    <tr>\n",
       "      <th>0</th>\n",
       "      <td>27.90</td>\n",
       "      <td>0</td>\n",
       "    </tr>\n",
       "    <tr>\n",
       "      <th>5</th>\n",
       "      <td>25.74</td>\n",
       "      <td>0</td>\n",
       "    </tr>\n",
       "    <tr>\n",
       "      <th>6</th>\n",
       "      <td>33.44</td>\n",
       "      <td>1</td>\n",
       "    </tr>\n",
       "    <tr>\n",
       "      <th>7</th>\n",
       "      <td>27.74</td>\n",
       "      <td>3</td>\n",
       "    </tr>\n",
       "    <tr>\n",
       "      <th>9</th>\n",
       "      <td>25.84</td>\n",
       "      <td>0</td>\n",
       "    </tr>\n",
       "    <tr>\n",
       "      <th>...</th>\n",
       "      <td>...</td>\n",
       "      <td>...</td>\n",
       "    </tr>\n",
       "    <tr>\n",
       "      <th>1332</th>\n",
       "      <td>44.70</td>\n",
       "      <td>3</td>\n",
       "    </tr>\n",
       "    <tr>\n",
       "      <th>1334</th>\n",
       "      <td>31.92</td>\n",
       "      <td>0</td>\n",
       "    </tr>\n",
       "    <tr>\n",
       "      <th>1335</th>\n",
       "      <td>36.85</td>\n",
       "      <td>0</td>\n",
       "    </tr>\n",
       "    <tr>\n",
       "      <th>1336</th>\n",
       "      <td>25.80</td>\n",
       "      <td>0</td>\n",
       "    </tr>\n",
       "    <tr>\n",
       "      <th>1337</th>\n",
       "      <td>29.07</td>\n",
       "      <td>0</td>\n",
       "    </tr>\n",
       "  </tbody>\n",
       "</table>\n",
       "<p>662 rows × 2 columns</p>\n",
       "</div>"
      ],
      "text/plain": [
       "        bmi  children\n",
       "0     27.90         0\n",
       "5     25.74         0\n",
       "6     33.44         1\n",
       "7     27.74         3\n",
       "9     25.84         0\n",
       "...     ...       ...\n",
       "1332  44.70         3\n",
       "1334  31.92         0\n",
       "1335  36.85         0\n",
       "1336  25.80         0\n",
       "1337  29.07         0\n",
       "\n",
       "[662 rows x 2 columns]"
      ]
     },
     "execution_count": 129,
     "metadata": {},
     "output_type": "execute_result"
    }
   ],
   "source": [
    "female_bmi = ins[['bmi', 'sex', 'children']].copy()\n",
    "female_bmi = female_bmi[female_bmi['sex'] == 'female']\n",
    "female_bmi.drop('sex', axis = 1, inplace = True)\n",
    "female_bmi"
   ]
  },
  {
   "cell_type": "code",
   "execution_count": 138,
   "metadata": {},
   "outputs": [
    {
     "data": {
      "text/plain": [
       "{0: Int64Index([   0,    5,    9,   11,   13,   20,   26,   31,   40,   47,\n",
       "             ...\n",
       "             1306, 1308, 1311, 1316, 1326, 1331, 1334, 1335, 1336, 1337],\n",
       "            dtype='int64', length=289),\n",
       " 1: Int64Index([   6,   16,   21,   23,   58,   63,   76,   91,   95,  104,\n",
       "             ...\n",
       "             1218, 1220, 1225, 1239, 1257, 1262, 1263, 1287, 1299, 1302],\n",
       "            dtype='int64', length=158),\n",
       " 2: Int64Index([  27,   41,   43,   46,   51,   56,   59,   66,   84,   94,\n",
       "             ...\n",
       "             1264, 1279, 1281, 1290, 1297, 1313, 1319, 1323, 1328, 1330],\n",
       "            dtype='int64', length=119),\n",
       " 3: Int64Index([   7,   25,   36,   54,   72,   96,  103,  124,  138,  145,  152,\n",
       "              159,  167,  179,  187,  231,  255,  264,  267,  301,  345,  366,\n",
       "              376,  378,  389,  396,  429,  459,  460,  486,  536,  540,  558,\n",
       "              603,  613,  643,  647,  676,  708,  725,  732,  734,  756,  785,\n",
       "              810,  811,  854,  861,  869,  883,  912,  970,  978,  994,  995,\n",
       "              996,  998, 1018, 1021, 1035, 1112, 1113, 1119, 1122, 1135, 1141,\n",
       "             1152, 1155, 1195, 1204, 1219, 1232, 1242, 1246, 1256, 1314, 1332],\n",
       "            dtype='int64'),\n",
       " 4: Int64Index([83, 321, 344, 659, 891, 1012, 1064, 1094, 1095, 1154, 1253], dtype='int64'),\n",
       " 5: Int64Index([32, 166, 438, 568, 937, 969, 1085, 1130], dtype='int64')}"
      ]
     },
     "execution_count": 138,
     "metadata": {},
     "output_type": "execute_result"
    }
   ],
   "source": [
    "children_group = female_bmi.groupby('children').groups\n",
    "\n",
    "children_group"
   ]
  },
  {
   "cell_type": "code",
   "execution_count": 139,
   "metadata": {},
   "outputs": [],
   "source": [
    "no_child = female_bmi['bmi'][children_group[0]]\n",
    "one_child = female_bmi['bmi'][children_group[1]]\n",
    "two_child = female_bmi['bmi'][children_group[2]]\n",
    "\n",
    "# Perform the ANOVA\n",
    "stat, pval = stats.f_oneway(no_child, one_child, two_child)"
   ]
  },
  {
   "cell_type": "code",
   "execution_count": 140,
   "metadata": {},
   "outputs": [
    {
     "name": "stdout",
     "output_type": "stream",
     "text": [
      "With a p-value of 0.7159 the difference is not significant. aka |We fail to reject the null|\n"
     ]
    }
   ],
   "source": [
    "if pval < 0.05:\n",
    "    print(f'With a p-value of {round(pval,4)} the difference is significant. aka |We reject the null|')\n",
    "else:\n",
    "    print(f'With a p-value of {round(pval,4)} the difference is not significant. aka |We fail to reject the null|')"
   ]
  },
  {
   "cell_type": "code",
   "execution_count": null,
   "metadata": {},
   "outputs": [],
   "source": []
  },
  {
   "cell_type": "code",
   "execution_count": null,
   "metadata": {},
   "outputs": [],
   "source": []
  }
 ],
 "metadata": {
  "kernelspec": {
   "display_name": "Python 3",
   "language": "python",
   "name": "python3"
  },
  "language_info": {
   "codemirror_mode": {
    "name": "ipython",
    "version": 3
   },
   "file_extension": ".py",
   "mimetype": "text/x-python",
   "name": "python",
   "nbconvert_exporter": "python",
   "pygments_lexer": "ipython3",
   "version": "3.8.5"
  }
 },
 "nbformat": 4,
 "nbformat_minor": 4
}
