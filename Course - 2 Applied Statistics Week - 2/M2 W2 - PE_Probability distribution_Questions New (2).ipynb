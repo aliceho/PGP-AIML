{
 "cells": [
  {
   "cell_type": "code",
   "execution_count": 1,
   "metadata": {},
   "outputs": [],
   "source": [
    "import numpy as np\n",
    "import scipy.stats as stats\n",
    "import matplotlib.pyplot as plt"
   ]
  },
  {
   "cell_type": "markdown",
   "metadata": {},
   "source": [
    "# 1.You flip a fair coin 10 times. What is the probability of getting 8 or more heads? "
   ]
  },
  {
   "cell_type": "code",
   "execution_count": 2,
   "metadata": {},
   "outputs": [
    {
     "data": {
      "text/plain": [
       "array([ 0,  1,  2,  3,  4,  5,  6,  7,  8,  9, 10])"
      ]
     },
     "execution_count": 2,
     "metadata": {},
     "output_type": "execute_result"
    }
   ],
   "source": [
    "n = 10\n",
    "p = 0.5\n",
    "k = np.arange(0,11)\n",
    "k"
   ]
  },
  {
   "cell_type": "code",
   "execution_count": 3,
   "metadata": {},
   "outputs": [
    {
     "data": {
      "text/plain": [
       "array([0.00097656, 0.00976563, 0.04394531, 0.1171875 , 0.20507813,\n",
       "       0.24609375, 0.20507813, 0.1171875 , 0.04394531, 0.00976563,\n",
       "       0.00097656])"
      ]
     },
     "execution_count": 3,
     "metadata": {},
     "output_type": "execute_result"
    }
   ],
   "source": [
    "binomial = stats.binom.pmf(k,n,p)\n",
    "binomial"
   ]
  },
  {
   "cell_type": "code",
   "execution_count": 4,
   "metadata": {},
   "outputs": [
    {
     "data": {
      "text/plain": [
       "0.0546875"
      ]
     },
     "execution_count": 4,
     "metadata": {},
     "output_type": "execute_result"
    }
   ],
   "source": [
    "binomial[8]+binomial[9]+binomial[10]"
   ]
  },
  {
   "cell_type": "markdown",
   "metadata": {},
   "source": [
    "# 2. The probability that you will win a certain game is 0.3. You play the game 20 times. What is the mean of this binomial distribution?\n"
   ]
  },
  {
   "cell_type": "code",
   "execution_count": 5,
   "metadata": {},
   "outputs": [
    {
     "data": {
      "text/plain": [
       "6.0"
      ]
     },
     "execution_count": 5,
     "metadata": {},
     "output_type": "execute_result"
    }
   ],
   "source": [
    "p=0.3\n",
    "n=20\n",
    "mean  = n*p\n",
    "mean"
   ]
  },
  {
   "cell_type": "markdown",
   "metadata": {},
   "source": [
    "# 3. An automatic camera records the number of cars running a red light at an intersection (that is, the cars were going through when the red light was against the car). Analysis of the data shows that on average 15% of light changes record a car running a red light. Assume that the data has a binomial distribution. What is theprobability that in 20 light changes there will be exactly three (3) cars running a red light?"
   ]
  },
  {
   "cell_type": "code",
   "execution_count": 6,
   "metadata": {},
   "outputs": [
    {
     "data": {
      "text/plain": [
       "array([ 0,  1,  2,  3,  4,  5,  6,  7,  8,  9, 10, 11, 12, 13, 14, 15, 16,\n",
       "       17, 18, 19, 20])"
      ]
     },
     "execution_count": 6,
     "metadata": {},
     "output_type": "execute_result"
    }
   ],
   "source": [
    "p=0.15\n",
    "n=20\n",
    "k=np.arange(0,21)\n",
    "k"
   ]
  },
  {
   "cell_type": "code",
   "execution_count": 7,
   "metadata": {},
   "outputs": [
    {
     "data": {
      "text/plain": [
       "array([3.87595311e-02, 1.36798345e-01, 2.29338402e-01, 2.42828896e-01,\n",
       "       1.82121672e-01, 1.02845180e-01, 4.53728733e-02, 1.60139553e-02,\n",
       "       4.59223718e-03, 1.08052640e-03, 2.09749241e-04, 3.36496109e-05,\n",
       "       4.45362498e-06, 4.83651581e-07, 4.26751395e-08, 3.01236279e-09,\n",
       "       1.66122948e-10, 6.89783867e-12, 2.02877608e-13, 3.76862429e-15,\n",
       "       3.32525673e-17])"
      ]
     },
     "execution_count": 7,
     "metadata": {},
     "output_type": "execute_result"
    }
   ],
   "source": [
    "b = stats.binom.pmf(k,n,p)\n",
    "b "
   ]
  },
  {
   "cell_type": "code",
   "execution_count": 8,
   "metadata": {},
   "outputs": [
    {
     "data": {
      "text/plain": [
       "0.24282889614926725"
      ]
     },
     "execution_count": 8,
     "metadata": {},
     "output_type": "execute_result"
    }
   ],
   "source": [
    "b[3]"
   ]
  },
  {
   "cell_type": "markdown",
   "metadata": {},
   "source": [
    "# 4. There are 15 sets of traffic lights on the journey.The probability that a driver must stop at any one traffic light coming to alliance University is 0.3  \n",
    "\n",
    "a) What is the probability that a student must stop at exactly 2 of the 15 sets oftraffic lights? \n",
    "\n",
    "b) What is the probability that a student will be stopped at 1 or more of the 15sets of traffic lights? "
   ]
  },
  {
   "cell_type": "code",
   "execution_count": 9,
   "metadata": {},
   "outputs": [
    {
     "data": {
      "text/plain": [
       "array([ 0,  1,  2,  3,  4,  5,  6,  7,  8,  9, 10, 11, 12, 13, 14, 15])"
      ]
     },
     "execution_count": 9,
     "metadata": {},
     "output_type": "execute_result"
    }
   ],
   "source": [
    "p=0.3\n",
    "n=15\n",
    "k = np.arange(0,16)\n",
    "k"
   ]
  },
  {
   "cell_type": "code",
   "execution_count": 10,
   "metadata": {},
   "outputs": [
    {
     "data": {
      "text/plain": [
       "array([4.74756151e-03, 3.05200383e-02, 9.15601148e-02, 1.70040213e-01,\n",
       "       2.18623131e-01, 2.06130381e-01, 1.47235986e-01, 8.11300333e-02,\n",
       "       3.47700143e-02, 1.15900048e-02, 2.98028694e-03, 5.80575378e-04,\n",
       "       8.29393397e-05, 8.20279184e-06, 5.02211745e-07, 1.43489070e-08])"
      ]
     },
     "execution_count": 10,
     "metadata": {},
     "output_type": "execute_result"
    }
   ],
   "source": [
    "stop = stats.binom.pmf(k,n,p)\n",
    "stop"
   ]
  },
  {
   "cell_type": "code",
   "execution_count": 11,
   "metadata": {},
   "outputs": [
    {
     "data": {
      "text/plain": [
       "0.0915601148346156"
      ]
     },
     "execution_count": 11,
     "metadata": {},
     "output_type": "execute_result"
    }
   ],
   "source": [
    "stop[2]"
   ]
  },
  {
   "cell_type": "code",
   "execution_count": 12,
   "metadata": {},
   "outputs": [
    {
     "data": {
      "text/plain": [
       "0.995252438490057"
      ]
     },
     "execution_count": 12,
     "metadata": {},
     "output_type": "execute_result"
    }
   ],
   "source": [
    "1-stop[0]"
   ]
  },
  {
   "cell_type": "markdown",
   "metadata": {},
   "source": [
    "# 5. What is the area under the curve of a probability distribution? Explain."
   ]
  },
  {
   "cell_type": "markdown",
   "metadata": {},
   "source": [
    "### Ans: The area is 1 by definition, meaning that the probability that a score chosen at random will occur under the curve is 1."
   ]
  },
  {
   "cell_type": "markdown",
   "metadata": {},
   "source": [
    "# 6. My Bank has a large Credit Card portfolio. Based on empirical data, they have found that 60% of the customers pay their bill on time. If a sample of 10 accounts is selected from the current database, construct the Probability Distribution of accounts paying on time.\n",
    "Hint: Make use of Function used in Excel or R"
   ]
  },
  {
   "cell_type": "code",
   "execution_count": 13,
   "metadata": {},
   "outputs": [
    {
     "data": {
      "text/plain": [
       "array([0, 1, 2, 3, 4, 5, 6, 7, 8, 9])"
      ]
     },
     "execution_count": 13,
     "metadata": {},
     "output_type": "execute_result"
    }
   ],
   "source": [
    "p=0.6\n",
    "n=10\n",
    "k=np.arange(0,10)\n",
    "k"
   ]
  },
  {
   "cell_type": "code",
   "execution_count": 14,
   "metadata": {},
   "outputs": [
    {
     "data": {
      "text/plain": [
       "array([1.04857600e-04, 1.57286400e-03, 1.06168320e-02, 4.24673280e-02,\n",
       "       1.11476736e-01, 2.00658125e-01, 2.50822656e-01, 2.14990848e-01,\n",
       "       1.20932352e-01, 4.03107840e-02])"
      ]
     },
     "execution_count": 14,
     "metadata": {},
     "output_type": "execute_result"
    }
   ],
   "source": [
    "pay = stats.binom.pmf(k,n,p)\n",
    "pay"
   ]
  },
  {
   "cell_type": "code",
   "execution_count": 15,
   "metadata": {},
   "outputs": [
    {
     "data": {
      "image/png": "[encoded data removed]",
      "text/plain": [
       "<Figure size 432x288 with 1 Axes>"
      ]
     },
     "metadata": {
      "needs_background": "light"
     },
     "output_type": "display_data"
    }
   ],
   "source": [
    "plt.plot(k,pay,'o-')\n",
    "plt.title('Binomial: trial=%i success=%.2f' %(n,p), fontsize=15)\n",
    "plt.show()"
   ]
  },
  {
   "cell_type": "markdown",
   "metadata": {},
   "source": [
    "# 7. If the likelihood of a tagged order form is 0.1, What is the probability that there are three tagged order forms in the sample of four?\n",
    "Hint: Use Binomial distribution equation"
   ]
  },
  {
   "cell_type": "code",
   "execution_count": 16,
   "metadata": {},
   "outputs": [
    {
     "data": {
      "text/plain": [
       "array([0.6561, 0.2916, 0.0486, 0.0036])"
      ]
     },
     "execution_count": 16,
     "metadata": {},
     "output_type": "execute_result"
    }
   ],
   "source": [
    "p=0.1\n",
    "n=4\n",
    "k=[0,1,2,3]\n",
    "tag = stats.binom.pmf(k,n,p)\n",
    "tag"
   ]
  },
  {
   "cell_type": "code",
   "execution_count": 17,
   "metadata": {},
   "outputs": [
    {
     "data": {
      "text/plain": [
       "0.003600000000000003"
      ]
     },
     "execution_count": 17,
     "metadata": {},
     "output_type": "execute_result"
    }
   ],
   "source": [
    "tag[3]"
   ]
  },
  {
   "cell_type": "markdown",
   "metadata": {},
   "source": [
    "# 8. Determine the following:\n",
    "\n",
    "a) For n = 4 and p = 0.12, what is P(X = 0)?\n",
    "\n",
    "b) For n = 6 and p = 0.83, what is P(X = 5)?"
   ]
  },
  {
   "cell_type": "code",
   "execution_count": 18,
   "metadata": {},
   "outputs": [
    {
     "data": {
      "text/plain": [
       "0.59969536"
      ]
     },
     "execution_count": 18,
     "metadata": {},
     "output_type": "execute_result"
    }
   ],
   "source": [
    "stats.binom.pmf([0,1,2,3],4,0.12)[0]\n"
   ]
  },
  {
   "cell_type": "code",
   "execution_count": 19,
   "metadata": {},
   "outputs": [
    {
     "data": {
      "text/plain": [
       "0.4017821455860002"
      ]
     },
     "execution_count": 19,
     "metadata": {},
     "output_type": "execute_result"
    }
   ],
   "source": [
    "stats.binom.pmf([0,1,2,3,4,5],6,0.83)[5]"
   ]
  },
  {
   "cell_type": "markdown",
   "metadata": {},
   "source": [
    "# 9.Determine the mean and standard deviation of the variable X in each of the following binomial distributions:\n",
    "\n",
    "a) n = 4 and p = 0.10\n",
    "\n",
    "b) n = 5 and p = 0.80"
   ]
  },
  {
   "cell_type": "code",
   "execution_count": 20,
   "metadata": {},
   "outputs": [
    {
     "name": "stdout",
     "output_type": "stream",
     "text": [
      "0.4 0.6000000000000001\n"
     ]
    }
   ],
   "source": [
    "n=4\n",
    "p=0.10\n",
    "mean = n*p\n",
    "std = np.sqrt(mean*(1-p))\n",
    "print (mean, std)"
   ]
  },
  {
   "cell_type": "code",
   "execution_count": 21,
   "metadata": {},
   "outputs": [
    {
     "name": "stdout",
     "output_type": "stream",
     "text": [
      "4.0 0.8944271909999157\n"
     ]
    }
   ],
   "source": [
    "n=5\n",
    "p=0.80\n",
    "mean = n*p\n",
    "std = np.sqrt(mean*(1-p))\n",
    "print (mean, std)"
   ]
  },
  {
   "cell_type": "markdown",
   "metadata": {},
   "source": [
    "# 10. Assume a poisson distribution with lambda = 5.0. What is the probability that\n",
    "a) X <= 1?\n",
    "\n",
    "b) X > 1?"
   ]
  },
  {
   "cell_type": "code",
   "execution_count": 22,
   "metadata": {},
   "outputs": [
    {
     "data": {
      "text/plain": [
       "array([6.73794700e-03, 3.36897350e-02, 8.42243375e-02, 1.40373896e-01,\n",
       "       1.75467370e-01, 1.75467370e-01, 1.46222808e-01, 1.04444863e-01,\n",
       "       6.52780393e-02, 3.62655774e-02, 1.81327887e-02, 8.24217669e-03,\n",
       "       3.43424029e-03, 1.32086165e-03, 4.71736303e-04, 1.57245434e-04,\n",
       "       4.91391982e-05, 1.44527054e-05, 4.01464038e-06, 1.05648431e-06])"
      ]
     },
     "execution_count": 22,
     "metadata": {},
     "output_type": "execute_result"
    }
   ],
   "source": [
    "rate = 5\n",
    "n = np.arange(0,20)\n",
    "pd = stats.poisson.pmf(n,rate)\n",
    "pd"
   ]
  },
  {
   "cell_type": "code",
   "execution_count": 23,
   "metadata": {},
   "outputs": [
    {
     "data": {
      "text/plain": [
       "0.040427681994512805"
      ]
     },
     "execution_count": 23,
     "metadata": {},
     "output_type": "execute_result"
    }
   ],
   "source": [
    "pd[0]+pd[1]"
   ]
  },
  {
   "cell_type": "code",
   "execution_count": 24,
   "metadata": {},
   "outputs": [
    {
     "data": {
      "text/plain": [
       "0.9595723180054871"
      ]
     },
     "execution_count": 24,
     "metadata": {},
     "output_type": "execute_result"
    }
   ],
   "source": [
    "1-(pd[0]+pd[1])"
   ]
  },
  {
   "cell_type": "markdown",
   "metadata": {},
   "source": [
    "# 11. The number of work related injuries per month in a manufacturing plant is known to follow a Poisson distribution, with a mean of 2.5 work-related injuries a month.\n",
    "\n",
    "a) What is the probability that in a given month, no work-related injuries occur?\n",
    "\n",
    "b) That at least one work- related injury occurs?\n",
    "\n",
    "Hint: Use Poisson distribution equation, find X = 0, Given lambda = 2.5"
   ]
  },
  {
   "cell_type": "code",
   "execution_count": 25,
   "metadata": {},
   "outputs": [
    {
     "data": {
      "text/plain": [
       "array([8.20849986e-02, 2.05212497e-01, 2.56515621e-01, 2.13763017e-01,\n",
       "       1.33601886e-01, 6.68009429e-02, 2.78337262e-02, 9.94061650e-03,\n",
       "       3.10644266e-03, 8.62900738e-04, 2.15725184e-04, 4.90284510e-05,\n",
       "       1.02142606e-05, 1.96428089e-06, 3.50764445e-07, 5.84607408e-08,\n",
       "       9.13449075e-09, 1.34330746e-09, 1.86570481e-10, 2.45487475e-11,\n",
       "       3.06859344e-12, 3.65308742e-13, 4.15123571e-14, 4.51221273e-15,\n",
       "       4.70022159e-16, 4.70022159e-17, 4.51944384e-18, 4.18467022e-19,\n",
       "       3.73631270e-20, 3.22095922e-21])"
      ]
     },
     "execution_count": 25,
     "metadata": {},
     "output_type": "execute_result"
    }
   ],
   "source": [
    "rate = 2.5\n",
    "n = np.arange(0,30)\n",
    "injury = stats.poisson.pmf(n,rate)\n",
    "injury"
   ]
  },
  {
   "cell_type": "code",
   "execution_count": 26,
   "metadata": {},
   "outputs": [
    {
     "data": {
      "text/plain": [
       "0.0820849986238988"
      ]
     },
     "execution_count": 26,
     "metadata": {},
     "output_type": "execute_result"
    }
   ],
   "source": [
    "injury[0]"
   ]
  },
  {
   "cell_type": "code",
   "execution_count": 27,
   "metadata": {},
   "outputs": [
    {
     "data": {
      "text/plain": [
       "0.9179150013761012"
      ]
     },
     "execution_count": 27,
     "metadata": {},
     "output_type": "execute_result"
    }
   ],
   "source": [
    "1-injury[0]"
   ]
  },
  {
   "cell_type": "markdown",
   "metadata": {},
   "source": [
    "# 12. A 5-litre bucket of water is taken from a swamp. The water contains 75 mosquito larvae. A 200mL flask of water is taken form the bucket for further analysis. What is\n",
    "\n",
    "a) the expected number of larvae in the flask?\n",
    "\n",
    "b) the probability that the flask contains at least one mosquito lava?"
   ]
  },
  {
   "cell_type": "code",
   "execution_count": 28,
   "metadata": {
    "scrolled": true
   },
   "outputs": [
    {
     "data": {
      "text/plain": [
       "array([4.97870684e-002, 1.49361205e-001, 2.24041808e-001, 2.24041808e-001,\n",
       "       1.68031356e-001, 1.00818813e-001, 5.04094067e-002, 2.16040315e-002,\n",
       "       8.10151179e-003, 2.70050393e-003, 8.10151179e-004, 2.20950322e-004,\n",
       "       5.52375804e-005, 1.27471339e-005, 2.73152870e-006, 5.46305740e-007,\n",
       "       1.02432326e-007, 1.80762929e-008, 3.01271548e-009, 4.75691918e-010,\n",
       "       7.13537877e-011, 1.01933982e-011, 1.39000885e-012, 1.81305502e-013,\n",
       "       2.26631878e-014, 2.71958253e-015, 3.13797985e-016, 3.48664428e-017,\n",
       "       3.73569029e-018, 3.86450720e-019, 3.86450720e-020, 3.73984568e-021,\n",
       "       3.50610532e-022, 3.18736848e-023, 2.81238395e-024, 2.41061481e-025,\n",
       "       2.00884568e-026, 1.62879379e-027, 1.28588984e-028, 9.89146028e-030,\n",
       "       7.41859521e-031, 5.42824040e-032, 3.87731457e-033, 2.70510319e-034,\n",
       "       1.84438854e-035, 1.22959236e-036, 8.01908060e-038, 5.11856209e-039,\n",
       "       3.19910130e-040, 1.95863345e-041, 1.17518007e-042, 6.91282394e-044,\n",
       "       3.98816766e-045, 2.25745339e-046, 1.25414077e-047, 6.84076786e-049,\n",
       "       3.66469707e-050, 1.92878793e-051, 9.97648929e-053, 5.07279116e-054,\n",
       "       2.53639558e-055, 1.24740766e-056, 6.03584353e-058, 2.87421121e-059,\n",
       "       1.34728650e-060, 6.21824540e-062, 2.82647518e-063, 1.26558590e-064,\n",
       "       5.58346721e-066, 2.42759444e-067, 1.04039762e-068, 4.39604627e-070,\n",
       "       1.83168595e-071, 7.52747649e-073, 3.05167966e-074, 1.22067186e-075,\n",
       "       4.81844157e-077, 1.87731490e-078, 7.22044191e-080, 2.74193996e-081,\n",
       "       1.02822749e-082, 3.80824995e-084, 1.39326218e-085, 5.03588739e-087,\n",
       "       1.79853121e-088, 6.34775721e-090, 2.21433391e-091, 7.63563418e-093,\n",
       "       2.60305711e-094, 8.77434979e-096, 2.92478326e-097, 9.64214263e-099,\n",
       "       3.14417694e-100, 1.01425063e-101, 3.23697009e-103, 1.02220108e-104,\n",
       "       3.19437838e-106, 9.87952075e-108, 3.02434309e-109, 9.16467602e-111,\n",
       "       2.74940281e-112, 8.16654299e-114, 2.40192441e-115, 6.99589633e-117,\n",
       "       2.01804702e-118, 5.76584863e-120, 1.63184395e-121, 4.57526341e-123,\n",
       "       1.27090650e-124, 3.49790781e-126, 9.53974857e-128, 2.57831042e-129,\n",
       "       6.90618864e-131, 1.83350141e-132, 4.82500371e-134, 1.25869662e-135,\n",
       "       3.25524988e-137, 8.34679455e-139, 2.12206641e-140, 5.34974726e-142,\n",
       "       1.33743681e-143, 3.31595904e-145, 8.15399765e-147, 1.98877991e-148,\n",
       "       4.81156431e-150, 1.15477543e-151, 2.74946532e-153, 6.49479997e-155,\n",
       "       1.52221874e-156, 3.54004359e-158, 8.16933135e-160, 1.87083924e-161,\n",
       "       4.25190737e-163, 9.59076850e-165, 2.14718698e-166, 4.77152661e-168,\n",
       "       1.05254264e-169, 2.30483789e-171, 5.01051715e-173, 1.08140658e-174,\n",
       "       2.31729981e-176, 4.93042513e-178, 1.04163911e-179, 2.18525688e-181,\n",
       "       4.55261850e-183, 9.41921068e-185, 1.93545425e-186, 3.94990663e-188,\n",
       "       8.00656750e-190, 1.61206057e-191, 3.22412114e-193, 6.40553869e-195,\n",
       "       1.26425106e-196, 2.47892364e-198, 4.82907203e-200, 9.34659102e-202,\n",
       "       1.79742135e-203, 3.43456309e-205, 6.52132232e-207, 1.23043817e-208,\n",
       "       2.30707158e-210, 4.29889114e-212, 7.96090951e-214, 1.46519807e-215,\n",
       "       2.68024037e-217, 4.87316431e-219, 8.80692346e-221, 1.58208206e-222,\n",
       "       2.82514653e-224, 5.01505302e-226, 8.85009356e-228, 1.55264799e-229,\n",
       "       2.70810696e-231, 4.69613924e-233, 8.09679180e-235, 1.38802145e-236,\n",
       "       2.36594566e-238, 4.01007738e-240, 6.75855739e-242, 1.13271911e-243,\n",
       "       1.88786519e-245, 3.12905833e-247, 5.15778845e-249, 8.45539091e-251,\n",
       "       1.37859634e-252, 2.23556164e-254, 3.60574458e-256, 5.78461697e-258,\n",
       "       9.23077176e-260, 1.46520187e-261, 2.31347663e-263, 3.63373293e-265,\n",
       "       5.67770770e-267, 8.82545239e-269, 1.36476068e-270, 2.09963181e-272,\n",
       "       3.21372216e-274, 4.89399314e-276, 7.41514112e-278, 1.11786047e-279])"
      ]
     },
     "execution_count": 28,
     "metadata": {},
     "output_type": "execute_result"
    }
   ],
   "source": [
    "rate = 3\n",
    "n = np.arange(0,200)\n",
    "l = stats.poisson.pmf(n,rate)\n",
    "l"
   ]
  },
  {
   "cell_type": "code",
   "execution_count": 29,
   "metadata": {},
   "outputs": [
    {
     "data": {
      "text/plain": [
       "1.0"
      ]
     },
     "execution_count": 29,
     "metadata": {},
     "output_type": "execute_result"
    }
   ],
   "source": [
    "sum(l)"
   ]
  },
  {
   "cell_type": "code",
   "execution_count": 30,
   "metadata": {},
   "outputs": [
    {
     "data": {
      "text/plain": [
       "0.950212931632136"
      ]
     },
     "execution_count": 30,
     "metadata": {},
     "output_type": "execute_result"
    }
   ],
   "source": [
    "1-l[0]"
   ]
  },
  {
   "cell_type": "markdown",
   "metadata": {},
   "source": [
    "# 13. Why the need of Standardization? Why do we us Z instead of “the Number of Standard Deviations”?"
   ]
  },
  {
   "cell_type": "markdown",
   "metadata": {},
   "source": [
    "### Normally Distributed random variable take on many different units of measure: rupees, cms, inches, Kg, minutes. By standardizing, you remove the units as such we do not require separate Normal Distribution table for each variable and one Standardized Distribution Table can be used for any random variable."
   ]
  },
  {
   "cell_type": "markdown",
   "metadata": {},
   "source": [
    "# 14. A radar unit is used to measure speeds of cars on a Mumbai – Pune Highway. The speeds are normally distributed with a mean of 70 km/hr and a standard deviation of 10 km/hr.\n",
    "\n",
    "a)What is the probability that a car picked at random is travelling at more than 100 km/hr?\n",
    "\n",
    "b)What is the probability that the car speed is between 80 Km / hr and 100 Km / hr\n",
    "\n",
    "Hint: You can make use of Excel"
   ]
  },
  {
   "cell_type": "code",
   "execution_count": 31,
   "metadata": {},
   "outputs": [
    {
     "data": {
      "text/plain": [
       "0.0013498980316301035"
      ]
     },
     "execution_count": 31,
     "metadata": {},
     "output_type": "execute_result"
    }
   ],
   "source": [
    "mean = 70\n",
    "std = 10\n",
    "1-stats.norm.cdf(100, loc=mean, scale=std)"
   ]
  },
  {
   "cell_type": "code",
   "execution_count": 32,
   "metadata": {},
   "outputs": [
    {
     "data": {
      "text/plain": [
       "0.15730535589982697"
      ]
     },
     "execution_count": 32,
     "metadata": {},
     "output_type": "execute_result"
    }
   ],
   "source": [
    "stats.norm.cdf(100,loc=mean,scale=std) - stats.norm.cdf(80,loc=mean, scale=std)"
   ]
  },
  {
   "cell_type": "markdown",
   "metadata": {},
   "source": [
    "# 15. The percentage of orders filled correctly at Wendy's was approximately 86.8%. Suppose that you go to drive-through window at Wendy's and place an order. Two friends of yours independently place orders at the drive-through window at the same Wendy's.\n",
    "\n",
    "What are the probabilities that\n",
    "\n",
    "a) all three filled correctly?\n",
    "\n",
    "b) none of the three filled correctly?\n",
    "\n",
    "c) atleast two of the three orders will be filled correctly?\n",
    "\n",
    "d) what is the mean and standard deviation of the orders filled correctly?"
   ]
  },
  {
   "cell_type": "code",
   "execution_count": 33,
   "metadata": {},
   "outputs": [
    {
     "data": {
      "text/plain": [
       "array([0, 1, 2, 3])"
      ]
     },
     "execution_count": 33,
     "metadata": {},
     "output_type": "execute_result"
    }
   ],
   "source": [
    "p=0.868\n",
    "n=3\n",
    "k=np.arange(0,4)\n",
    "k"
   ]
  },
  {
   "cell_type": "code",
   "execution_count": 34,
   "metadata": {},
   "outputs": [
    {
     "data": {
      "text/plain": [
       "array([0.00229997, 0.0453721 , 0.2983559 , 0.65397203])"
      ]
     },
     "execution_count": 34,
     "metadata": {},
     "output_type": "execute_result"
    }
   ],
   "source": [
    "filled_correctly = stats.binom.pmf(k,n,p)\n",
    "filled_correctly"
   ]
  },
  {
   "cell_type": "code",
   "execution_count": 35,
   "metadata": {},
   "outputs": [
    {
     "data": {
      "text/plain": [
       "0.653972032"
      ]
     },
     "execution_count": 35,
     "metadata": {},
     "output_type": "execute_result"
    }
   ],
   "source": [
    "filled_correctly[3]"
   ]
  },
  {
   "cell_type": "code",
   "execution_count": 36,
   "metadata": {},
   "outputs": [
    {
     "data": {
      "text/plain": [
       "0.002299968"
      ]
     },
     "execution_count": 36,
     "metadata": {},
     "output_type": "execute_result"
    }
   ],
   "source": [
    "filled_correctly[0]"
   ]
  },
  {
   "cell_type": "code",
   "execution_count": 37,
   "metadata": {},
   "outputs": [
    {
     "data": {
      "text/plain": [
       "0.9523279359999999"
      ]
     },
     "execution_count": 37,
     "metadata": {},
     "output_type": "execute_result"
    }
   ],
   "source": [
    "filled_correctly[2]+filled_correctly[3]"
   ]
  },
  {
   "cell_type": "code",
   "execution_count": 39,
   "metadata": {},
   "outputs": [
    {
     "data": {
      "text/plain": [
       "2.604"
      ]
     },
     "execution_count": 39,
     "metadata": {},
     "output_type": "execute_result"
    }
   ],
   "source": [
    "mean = n*p\n",
    "mean"
   ]
  },
  {
   "cell_type": "code",
   "execution_count": 40,
   "metadata": {},
   "outputs": [
    {
     "data": {
      "text/plain": [
       "0.5862832080146932"
      ]
     },
     "execution_count": 40,
     "metadata": {},
     "output_type": "execute_result"
    }
   ],
   "source": [
    "std = np.sqrt(mean*(1-p))\n",
    "std"
   ]
  },
  {
   "cell_type": "code",
   "execution_count": 41,
   "metadata": {},
   "outputs": [
    {
     "data": {
      "image/png": "[encoded data removed]",
      "text/plain": [
       "<Figure size 432x288 with 1 Axes>"
      ]
     },
     "metadata": {
      "needs_background": "light"
     },
     "output_type": "display_data"
    }
   ],
   "source": [
    "plt.plot(k,filled_correctly, 'o-')\n",
    "plt.title('Binomial')\n",
    "plt.xlabel('Number of Orders filled correctly')\n",
    "plt.ylabel('Prob of Orders filled correctly')\n",
    "plt.show()"
   ]
  },
  {
   "cell_type": "code",
   "execution_count": 42,
   "metadata": {},
   "outputs": [
    {
     "data": {
      "text/plain": [
       "0.1403738958142805"
      ]
     },
     "execution_count": 42,
     "metadata": {},
     "output_type": "execute_result"
    }
   ],
   "source": [
    "stats.poisson.pmf(3,5)"
   ]
  },
  {
   "cell_type": "code",
   "execution_count": 43,
   "metadata": {},
   "outputs": [
    {
     "data": {
      "text/plain": [
       "0.8413447460685429"
      ]
     },
     "execution_count": 43,
     "metadata": {},
     "output_type": "execute_result"
    }
   ],
   "source": [
    "stats.norm.cdf(80,loc=70,scale=10)"
   ]
  },
  {
   "cell_type": "code",
   "execution_count": null,
   "metadata": {},
   "outputs": [],
   "source": []
  }
 ],
 "metadata": {
  "kernelspec": {
   "display_name": "Python 3",
   "language": "python",
   "name": "python3"
  },
  "language_info": {
   "codemirror_mode": {
    "name": "ipython",
    "version": 3
   },
   "file_extension": ".py",
   "mimetype": "text/x-python",
   "name": "python",
   "nbconvert_exporter": "python",
   "pygments_lexer": "ipython3",
   "version": "3.7.6"
  }
 },
 "nbformat": 4,
 "nbformat_minor": 2
}
