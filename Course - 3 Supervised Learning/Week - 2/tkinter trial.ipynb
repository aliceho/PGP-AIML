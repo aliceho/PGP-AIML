{
 "cells": [
  {
   "cell_type": "code",
   "execution_count": 51,
   "metadata": {},
   "outputs": [],
   "source": [
    "import pandas as pd"
   ]
  },
  {
   "cell_type": "code",
   "execution_count": 52,
   "metadata": {},
   "outputs": [],
   "source": [
    "df = pd.read_csv('pima-indians-diabetes.csv')"
   ]
  },
  {
   "cell_type": "code",
   "execution_count": 53,
   "metadata": {},
   "outputs": [
    {
     "data": {
      "text/html": [
       "<div>\n",
       "<style scoped>\n",
       "    .dataframe tbody tr th:only-of-type {\n",
       "        vertical-align: middle;\n",
       "    }\n",
       "\n",
       "    .dataframe tbody tr th {\n",
       "        vertical-align: top;\n",
       "    }\n",
       "\n",
       "    .dataframe thead th {\n",
       "        text-align: right;\n",
       "    }\n",
       "</style>\n",
       "<table border=\"1\" class=\"dataframe\">\n",
       "  <thead>\n",
       "    <tr style=\"text-align: right;\">\n",
       "      <th></th>\n",
       "      <th>Preg</th>\n",
       "      <th>Plas</th>\n",
       "      <th>Pres</th>\n",
       "      <th>skin</th>\n",
       "      <th>test</th>\n",
       "      <th>mass</th>\n",
       "      <th>pedi</th>\n",
       "      <th>age</th>\n",
       "      <th>class</th>\n",
       "    </tr>\n",
       "  </thead>\n",
       "  <tbody>\n",
       "    <tr>\n",
       "      <th>0</th>\n",
       "      <td>6</td>\n",
       "      <td>148</td>\n",
       "      <td>72</td>\n",
       "      <td>35</td>\n",
       "      <td>0</td>\n",
       "      <td>33.6</td>\n",
       "      <td>0.627</td>\n",
       "      <td>50</td>\n",
       "      <td>1</td>\n",
       "    </tr>\n",
       "    <tr>\n",
       "      <th>1</th>\n",
       "      <td>1</td>\n",
       "      <td>85</td>\n",
       "      <td>66</td>\n",
       "      <td>29</td>\n",
       "      <td>0</td>\n",
       "      <td>26.6</td>\n",
       "      <td>0.351</td>\n",
       "      <td>31</td>\n",
       "      <td>0</td>\n",
       "    </tr>\n",
       "    <tr>\n",
       "      <th>2</th>\n",
       "      <td>8</td>\n",
       "      <td>183</td>\n",
       "      <td>64</td>\n",
       "      <td>0</td>\n",
       "      <td>0</td>\n",
       "      <td>23.3</td>\n",
       "      <td>0.672</td>\n",
       "      <td>32</td>\n",
       "      <td>1</td>\n",
       "    </tr>\n",
       "    <tr>\n",
       "      <th>3</th>\n",
       "      <td>1</td>\n",
       "      <td>89</td>\n",
       "      <td>66</td>\n",
       "      <td>23</td>\n",
       "      <td>94</td>\n",
       "      <td>28.1</td>\n",
       "      <td>0.167</td>\n",
       "      <td>21</td>\n",
       "      <td>0</td>\n",
       "    </tr>\n",
       "    <tr>\n",
       "      <th>4</th>\n",
       "      <td>0</td>\n",
       "      <td>137</td>\n",
       "      <td>40</td>\n",
       "      <td>35</td>\n",
       "      <td>168</td>\n",
       "      <td>43.1</td>\n",
       "      <td>2.288</td>\n",
       "      <td>33</td>\n",
       "      <td>1</td>\n",
       "    </tr>\n",
       "  </tbody>\n",
       "</table>\n",
       "</div>"
      ],
      "text/plain": [
       "   Preg  Plas  Pres  skin  test  mass   pedi  age  class\n",
       "0     6   148    72    35     0  33.6  0.627   50      1\n",
       "1     1    85    66    29     0  26.6  0.351   31      0\n",
       "2     8   183    64     0     0  23.3  0.672   32      1\n",
       "3     1    89    66    23    94  28.1  0.167   21      0\n",
       "4     0   137    40    35   168  43.1  2.288   33      1"
      ]
     },
     "execution_count": 53,
     "metadata": {},
     "output_type": "execute_result"
    }
   ],
   "source": [
    "df.head()"
   ]
  },
  {
   "cell_type": "code",
   "execution_count": 54,
   "metadata": {},
   "outputs": [
    {
     "name": "stdout",
     "output_type": "stream",
     "text": [
      "(514, 8)\n",
      "(254, 8)\n"
     ]
    }
   ],
   "source": [
    "X = df.drop('class', axis = 1)\n",
    "y = df['class']\n",
    "from sklearn.model_selection import train_test_split\n",
    "X_train, X_test, y_train, y_test = train_test_split(X, y, test_size=0.33, random_state=42)\n",
    "print(X_train.shape)\n",
    "print(X_test.shape)"
   ]
  },
  {
   "cell_type": "code",
   "execution_count": 55,
   "metadata": {},
   "outputs": [],
   "source": [
    "from sklearn.linear_model import LogisticRegression\n",
    "model = LogisticRegression(solver=\"liblinear\")\n",
    "model.fit(X_train,y_train)\n",
    "y_pred = model.predict(X_test)"
   ]
  },
  {
   "cell_type": "code",
   "execution_count": 56,
   "metadata": {},
   "outputs": [
    {
     "name": "stdout",
     "output_type": "stream",
     "text": [
      "          0         1         2       3        4         5         6  \\\n",
      "0  0.060067  0.026134 -0.016516 -0.0017 -0.00029  0.063539  0.218684   \n",
      "\n",
      "          7  intercept  \n",
      "0  0.021651  -5.714228  \n"
     ]
    }
   ],
   "source": [
    "coef_df = pd.DataFrame(model.coef_)\n",
    "coef_df['intercept'] = model.intercept_\n",
    "print(coef_df)"
   ]
  },
  {
   "cell_type": "code",
   "execution_count": 57,
   "metadata": {},
   "outputs": [
    {
     "name": "stdout",
     "output_type": "stream",
     "text": [
      "0.7677165354330708\n"
     ]
    }
   ],
   "source": [
    "model_score = model.score(X_test, y_test)\n",
    "print(model_score)"
   ]
  },
  {
   "cell_type": "code",
   "execution_count": 58,
   "metadata": {},
   "outputs": [],
   "source": [
    "import pickle"
   ]
  },
  {
   "cell_type": "code",
   "execution_count": 59,
   "metadata": {},
   "outputs": [],
   "source": [
    "Model = pickle.dumps(model)"
   ]
  },
  {
   "cell_type": "code",
   "execution_count": 60,
   "metadata": {},
   "outputs": [
    {
     "data": {
      "text/plain": [
       "''"
      ]
     },
     "execution_count": 60,
     "metadata": {},
     "output_type": "execute_result"
    }
   ],
   "source": [
    "import tkinter as tk\n",
    "\n",
    "from tkinter import ttk\n",
    "\n",
    "win = tk.Tk()\n",
    "\n",
    "win.title('Diabetes Predictions') "
   ]
  },
  {
   "cell_type": "code",
   "execution_count": 61,
   "metadata": {},
   "outputs": [],
   "source": [
    "#Column 1 \n",
    "Preg=ttk.Label(win,text=\"Preg\")\n",
    "Preg.grid(row=0,column=0,sticky=tk.W)\n",
    "Preg_var=tk.StringVar()\n",
    "Preg_entrybox=ttk.Entry(win,width=16,textvariable=Preg_var)\n",
    "Preg_entrybox.grid(row=0,column=1)\n",
    "#Column 2\n",
    "Plas=ttk.Label(win,text=\"Plas\")\n",
    "Plas.grid(row=1,column=0,sticky=tk.W)\n",
    "Plas_var=tk.StringVar()\n",
    "Plas_entrybox=ttk.Entry(win,width=16,textvariable=Plas_var)\n",
    "Plas_entrybox.grid(row=1,column=1)\n",
    "#Column 3\n",
    "Pres=ttk.Label(win,text=\"Pres\")\n",
    "Pres.grid(row=2,column=0,sticky=tk.W)\n",
    "Pres_var=tk.StringVar()\n",
    "Pres_entrybox=ttk.Entry(win,width=16,textvariable=Pres_var)\n",
    "Pres_entrybox.grid(row=2,column=1)\n",
    "#Column 4\n",
    "skin=ttk.Label(win,text=\"skin\")\n",
    "skin.grid(row=3,column=0,sticky=tk.W)\n",
    "skin_var=tk.StringVar()\n",
    "skin_entrybox=ttk.Entry(win,width=16,textvariable=skin_var)\n",
    "skin_entrybox.grid(row=3,column=1)\n",
    "#Column 5\n",
    "test=ttk.Label(win,text=\"test\")\n",
    "test.grid(row=4,column=0,sticky=tk.W)\n",
    "test_var=tk.StringVar()\n",
    "test_entrybox=ttk.Entry(win,width=16,textvariable=test_var)\n",
    "test_entrybox.grid(row=4,column=1)\n",
    "#Column 6\n",
    "mass=ttk.Label(win,text=\"mass\")\n",
    "mass.grid(row=5,column=0,sticky=tk.W)\n",
    "mass_var=tk.StringVar()\n",
    "mass_entrybox=ttk.Entry(win,width=16,textvariable=mass_var)\n",
    "mass_entrybox.grid(row=5,column=1)\n",
    "#Column 7\n",
    "pedi=ttk.Label(win,text=\"pedi\")\n",
    "pedi.grid(row=6,column=0,sticky=tk.W)\n",
    "pedi_var=tk.StringVar()\n",
    "pedi_entrybox=ttk.Entry(win,width=16,textvariable=pedi_var)\n",
    "pedi_entrybox.grid(row=6,column=1)\n",
    "#Column 8\n",
    "age=ttk.Label(win,text=\"age\")\n",
    "age.grid(row=7,column=0,sticky=tk.W)\n",
    "age_var=tk.StringVar()\n",
    "age_entrybox=ttk.Entry(win,width=16,textvariable=age_var)\n",
    "age_entrybox.grid(row=7,column=1)"
   ]
  },
  {
   "cell_type": "code",
   "execution_count": 62,
   "metadata": {},
   "outputs": [
    {
     "name": "stdout",
     "output_type": "stream",
     "text": [
      "(0, 0)\n"
     ]
    }
   ],
   "source": [
    "import pandas as pd\n",
    "DF = pd.DataFrame()\n",
    "def action():\n",
    "    global DB\n",
    "    import pandas as pd\n",
    "    DF = pd.DataFrame(columns=['Preg','Plas','Pres','skin','test','mass','pedi','age'])\n",
    "    PREG=Preg_var.get()\n",
    "    DF.loc[0,'Preg']=PREG\n",
    "    PLAS=Plas_var.get()\n",
    "    DF.loc[0,'Plas']=PLAS\n",
    "    PRES=Pres_var.get()\n",
    "    DF.loc[0,'Pres']=PRES\n",
    "    SKIN=skin_var.get()\n",
    "    DF.loc[0,'skin']=SKIN\n",
    "    TEST=test_var.get()\n",
    "    DF.loc[0,'test']=TEST\n",
    "    MASS=mass_var.get()\n",
    "    DF.loc[0,'mass']=MASS\n",
    "    PEDI=pedi_var.get()\n",
    "    DF.loc[0,'pedi']=PEDI\n",
    "    AGE=age_var.get()\n",
    "    DF.loc[0,'age']=AGE\n",
    "print(DF.shape)\n",
    "DB=DF"
   ]
  },
  {
   "cell_type": "code",
   "execution_count": 67,
   "metadata": {},
   "outputs": [],
   "source": [
    "def Output():\n",
    "    DB[\"Preg\"] = pd.to_numeric(DB[\"Preg\"])\n",
    "    DB[\"Plas\"] = pd.to_numeric(DB[\"Plas\"])\n",
    "    DB[\"Pres\"] = pd.to_numeric(DB[\"Pres\"])\n",
    "    DB[\"skin\"] = pd.to_numeric(DB[\"skin\"])\n",
    "    DB[\"test\"] = pd.to_numeric(DB[\"test\"])\n",
    "    DB[\"mass\"] = pd.to_numeric(DB[\"mass\"])\n",
    "    DB[\"pedi\"] = pd.to_numeric(DB[\"pedi\"])\n",
    "    DB[\"age\"] = pd.to_numeric(DB[\"age\"])\n",
    "    output=Model.predict(DB)\n",
    "    if output==1:\n",
    "        result='Diabetic'\n",
    "    elif output==0:\n",
    "        result='Non-Diabetic'\n",
    "    Predict_entrybox=ttk.Entry(win,width=16)\n",
    "    Predict_entrybox.grid(row=20,column=1)\n",
    "    Predict_entrybox.insert(1,str(result))"
   ]
  },
  {
   "cell_type": "code",
   "execution_count": null,
   "metadata": {},
   "outputs": [],
   "source": [
    "\n",
    "Predict_button=ttk.Button(win,text=\"Predict\",command=Output)\n",
    "Predict_button.grid(row=20,column=0)\n",
    "win.mainloop()"
   ]
  },
  {
   "cell_type": "code",
   "execution_count": null,
   "metadata": {},
   "outputs": [],
   "source": []
  }
 ],
 "metadata": {
  "kernelspec": {
   "display_name": "Python 3",
   "language": "python",
   "name": "python3"
  },
  "language_info": {
   "codemirror_mode": {
    "name": "ipython",
    "version": 3
   },
   "file_extension": ".py",
   "mimetype": "text/x-python",
   "name": "python",
   "nbconvert_exporter": "python",
   "pygments_lexer": "ipython3",
   "version": "3.7.6"
  }
 },
 "nbformat": 4,
 "nbformat_minor": 4
}
